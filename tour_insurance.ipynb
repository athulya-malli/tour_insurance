{
 "cells": [
  {
   "cell_type": "markdown",
   "id": "38e4b108",
   "metadata": {},
   "source": [
    "Problem 2: CART-RF-ANN\n"
   ]
  },
  {
   "cell_type": "markdown",
   "id": "565824c1",
   "metadata": {},
   "source": [
    "An Insurance firm providing tour insurance is facing higher claim frequency. The management decides to collect data from the past few years. You are assigned the task to make a model which predicts the claim status and provide recommendations to management. Use CART, RF & ANN and compare the models' performances in train and test sets.\n",
    "\n"
   ]
  },
  {
   "cell_type": "code",
   "execution_count": 1,
   "id": "5bb57899",
   "metadata": {},
   "outputs": [],
   "source": [
    "import numpy as np\n",
    "import pandas as pd\n",
    "import matplotlib.pyplot as plt\n",
    "import seaborn as sns\n",
    "%matplotlib inline\n",
    "from scipy import stats"
   ]
  },
  {
   "cell_type": "code",
   "execution_count": 2,
   "id": "0c42cad6",
   "metadata": {},
   "outputs": [],
   "source": [
    "df2 = pd.read_csv('insurance_part2_data.csv')"
   ]
  },
  {
   "cell_type": "markdown",
   "id": "ff3f36c8",
   "metadata": {},
   "source": [
    "2.1 Read the data, do the necessary initial steps, and exploratory data analysis (Univariate, Bi-variate, and multivariate analysis).\n"
   ]
  },
  {
   "cell_type": "code",
   "execution_count": 3,
   "id": "bb387754",
   "metadata": {},
   "outputs": [
    {
     "data": {
      "text/html": [
       "<div>\n",
       "<style scoped>\n",
       "    .dataframe tbody tr th:only-of-type {\n",
       "        vertical-align: middle;\n",
       "    }\n",
       "\n",
       "    .dataframe tbody tr th {\n",
       "        vertical-align: top;\n",
       "    }\n",
       "\n",
       "    .dataframe thead th {\n",
       "        text-align: right;\n",
       "    }\n",
       "</style>\n",
       "<table border=\"1\" class=\"dataframe\">\n",
       "  <thead>\n",
       "    <tr style=\"text-align: right;\">\n",
       "      <th></th>\n",
       "      <th>Age</th>\n",
       "      <th>Agency_Code</th>\n",
       "      <th>Type</th>\n",
       "      <th>Claimed</th>\n",
       "      <th>Commision</th>\n",
       "      <th>Channel</th>\n",
       "      <th>Duration</th>\n",
       "      <th>Sales</th>\n",
       "      <th>Product Name</th>\n",
       "      <th>Destination</th>\n",
       "    </tr>\n",
       "  </thead>\n",
       "  <tbody>\n",
       "    <tr>\n",
       "      <th>0</th>\n",
       "      <td>48</td>\n",
       "      <td>C2B</td>\n",
       "      <td>Airlines</td>\n",
       "      <td>No</td>\n",
       "      <td>0.70</td>\n",
       "      <td>Online</td>\n",
       "      <td>7</td>\n",
       "      <td>2.51</td>\n",
       "      <td>Customised Plan</td>\n",
       "      <td>ASIA</td>\n",
       "    </tr>\n",
       "    <tr>\n",
       "      <th>1</th>\n",
       "      <td>36</td>\n",
       "      <td>EPX</td>\n",
       "      <td>Travel Agency</td>\n",
       "      <td>No</td>\n",
       "      <td>0.00</td>\n",
       "      <td>Online</td>\n",
       "      <td>34</td>\n",
       "      <td>20.00</td>\n",
       "      <td>Customised Plan</td>\n",
       "      <td>ASIA</td>\n",
       "    </tr>\n",
       "    <tr>\n",
       "      <th>2</th>\n",
       "      <td>39</td>\n",
       "      <td>CWT</td>\n",
       "      <td>Travel Agency</td>\n",
       "      <td>No</td>\n",
       "      <td>5.94</td>\n",
       "      <td>Online</td>\n",
       "      <td>3</td>\n",
       "      <td>9.90</td>\n",
       "      <td>Customised Plan</td>\n",
       "      <td>Americas</td>\n",
       "    </tr>\n",
       "    <tr>\n",
       "      <th>3</th>\n",
       "      <td>36</td>\n",
       "      <td>EPX</td>\n",
       "      <td>Travel Agency</td>\n",
       "      <td>No</td>\n",
       "      <td>0.00</td>\n",
       "      <td>Online</td>\n",
       "      <td>4</td>\n",
       "      <td>26.00</td>\n",
       "      <td>Cancellation Plan</td>\n",
       "      <td>ASIA</td>\n",
       "    </tr>\n",
       "    <tr>\n",
       "      <th>4</th>\n",
       "      <td>33</td>\n",
       "      <td>JZI</td>\n",
       "      <td>Airlines</td>\n",
       "      <td>No</td>\n",
       "      <td>6.30</td>\n",
       "      <td>Online</td>\n",
       "      <td>53</td>\n",
       "      <td>18.00</td>\n",
       "      <td>Bronze Plan</td>\n",
       "      <td>ASIA</td>\n",
       "    </tr>\n",
       "  </tbody>\n",
       "</table>\n",
       "</div>"
      ],
      "text/plain": [
       "   Age Agency_Code           Type Claimed  Commision Channel  Duration  Sales  \\\n",
       "0   48         C2B       Airlines      No       0.70  Online         7   2.51   \n",
       "1   36         EPX  Travel Agency      No       0.00  Online        34  20.00   \n",
       "2   39         CWT  Travel Agency      No       5.94  Online         3   9.90   \n",
       "3   36         EPX  Travel Agency      No       0.00  Online         4  26.00   \n",
       "4   33         JZI       Airlines      No       6.30  Online        53  18.00   \n",
       "\n",
       "        Product Name Destination  \n",
       "0    Customised Plan        ASIA  \n",
       "1    Customised Plan        ASIA  \n",
       "2    Customised Plan    Americas  \n",
       "3  Cancellation Plan        ASIA  \n",
       "4        Bronze Plan        ASIA  "
      ]
     },
     "execution_count": 3,
     "metadata": {},
     "output_type": "execute_result"
    }
   ],
   "source": [
    "df2.head()"
   ]
  },
  {
   "cell_type": "code",
   "execution_count": 4,
   "id": "23853161",
   "metadata": {},
   "outputs": [
    {
     "name": "stdout",
     "output_type": "stream",
     "text": [
      "<class 'pandas.core.frame.DataFrame'>\n",
      "RangeIndex: 3000 entries, 0 to 2999\n",
      "Data columns (total 10 columns):\n",
      " #   Column        Non-Null Count  Dtype  \n",
      "---  ------        --------------  -----  \n",
      " 0   Age           3000 non-null   int64  \n",
      " 1   Agency_Code   3000 non-null   object \n",
      " 2   Type          3000 non-null   object \n",
      " 3   Claimed       3000 non-null   object \n",
      " 4   Commision     3000 non-null   float64\n",
      " 5   Channel       3000 non-null   object \n",
      " 6   Duration      3000 non-null   int64  \n",
      " 7   Sales         3000 non-null   float64\n",
      " 8   Product Name  3000 non-null   object \n",
      " 9   Destination   3000 non-null   object \n",
      "dtypes: float64(2), int64(2), object(6)\n",
      "memory usage: 234.5+ KB\n"
     ]
    }
   ],
   "source": [
    "df2.info()"
   ]
  },
  {
   "cell_type": "code",
   "execution_count": 5,
   "id": "e2c76250",
   "metadata": {},
   "outputs": [
    {
     "data": {
      "text/plain": [
       "Age               int64\n",
       "Agency_Code      object\n",
       "Type             object\n",
       "Claimed          object\n",
       "Commision       float64\n",
       "Channel          object\n",
       "Duration          int64\n",
       "Sales           float64\n",
       "Product Name     object\n",
       "Destination      object\n",
       "dtype: object"
      ]
     },
     "execution_count": 5,
     "metadata": {},
     "output_type": "execute_result"
    }
   ],
   "source": [
    "df2.dtypes"
   ]
  },
  {
   "cell_type": "code",
   "execution_count": 6,
   "id": "c813112a",
   "metadata": {},
   "outputs": [
    {
     "data": {
      "text/plain": [
       "(3000, 10)"
      ]
     },
     "execution_count": 6,
     "metadata": {},
     "output_type": "execute_result"
    }
   ],
   "source": [
    "df2.shape"
   ]
  },
  {
   "cell_type": "code",
   "execution_count": 7,
   "id": "d496a77c",
   "metadata": {},
   "outputs": [
    {
     "data": {
      "text/plain": [
       "Age             0\n",
       "Agency_Code     0\n",
       "Type            0\n",
       "Claimed         0\n",
       "Commision       0\n",
       "Channel         0\n",
       "Duration        0\n",
       "Sales           0\n",
       "Product Name    0\n",
       "Destination     0\n",
       "dtype: int64"
      ]
     },
     "execution_count": 7,
     "metadata": {},
     "output_type": "execute_result"
    }
   ],
   "source": [
    "df2.isnull().sum()"
   ]
  },
  {
   "cell_type": "code",
   "execution_count": 8,
   "id": "21b2dc8c",
   "metadata": {},
   "outputs": [
    {
     "data": {
      "text/html": [
       "<div>\n",
       "<style scoped>\n",
       "    .dataframe tbody tr th:only-of-type {\n",
       "        vertical-align: middle;\n",
       "    }\n",
       "\n",
       "    .dataframe tbody tr th {\n",
       "        vertical-align: top;\n",
       "    }\n",
       "\n",
       "    .dataframe thead th {\n",
       "        text-align: right;\n",
       "    }\n",
       "</style>\n",
       "<table border=\"1\" class=\"dataframe\">\n",
       "  <thead>\n",
       "    <tr style=\"text-align: right;\">\n",
       "      <th></th>\n",
       "      <th>Age</th>\n",
       "      <th>Commision</th>\n",
       "      <th>Duration</th>\n",
       "      <th>Sales</th>\n",
       "    </tr>\n",
       "  </thead>\n",
       "  <tbody>\n",
       "    <tr>\n",
       "      <th>count</th>\n",
       "      <td>3000.000000</td>\n",
       "      <td>3000.000000</td>\n",
       "      <td>3000.000000</td>\n",
       "      <td>3000.000000</td>\n",
       "    </tr>\n",
       "    <tr>\n",
       "      <th>mean</th>\n",
       "      <td>38.091000</td>\n",
       "      <td>14.529203</td>\n",
       "      <td>70.001333</td>\n",
       "      <td>60.249913</td>\n",
       "    </tr>\n",
       "    <tr>\n",
       "      <th>std</th>\n",
       "      <td>10.463518</td>\n",
       "      <td>25.481455</td>\n",
       "      <td>134.053313</td>\n",
       "      <td>70.733954</td>\n",
       "    </tr>\n",
       "    <tr>\n",
       "      <th>min</th>\n",
       "      <td>8.000000</td>\n",
       "      <td>0.000000</td>\n",
       "      <td>-1.000000</td>\n",
       "      <td>0.000000</td>\n",
       "    </tr>\n",
       "    <tr>\n",
       "      <th>25%</th>\n",
       "      <td>32.000000</td>\n",
       "      <td>0.000000</td>\n",
       "      <td>11.000000</td>\n",
       "      <td>20.000000</td>\n",
       "    </tr>\n",
       "    <tr>\n",
       "      <th>50%</th>\n",
       "      <td>36.000000</td>\n",
       "      <td>4.630000</td>\n",
       "      <td>26.500000</td>\n",
       "      <td>33.000000</td>\n",
       "    </tr>\n",
       "    <tr>\n",
       "      <th>75%</th>\n",
       "      <td>42.000000</td>\n",
       "      <td>17.235000</td>\n",
       "      <td>63.000000</td>\n",
       "      <td>69.000000</td>\n",
       "    </tr>\n",
       "    <tr>\n",
       "      <th>max</th>\n",
       "      <td>84.000000</td>\n",
       "      <td>210.210000</td>\n",
       "      <td>4580.000000</td>\n",
       "      <td>539.000000</td>\n",
       "    </tr>\n",
       "  </tbody>\n",
       "</table>\n",
       "</div>"
      ],
      "text/plain": [
       "               Age    Commision     Duration        Sales\n",
       "count  3000.000000  3000.000000  3000.000000  3000.000000\n",
       "mean     38.091000    14.529203    70.001333    60.249913\n",
       "std      10.463518    25.481455   134.053313    70.733954\n",
       "min       8.000000     0.000000    -1.000000     0.000000\n",
       "25%      32.000000     0.000000    11.000000    20.000000\n",
       "50%      36.000000     4.630000    26.500000    33.000000\n",
       "75%      42.000000    17.235000    63.000000    69.000000\n",
       "max      84.000000   210.210000  4580.000000   539.000000"
      ]
     },
     "execution_count": 8,
     "metadata": {},
     "output_type": "execute_result"
    }
   ],
   "source": [
    "df2.describe()"
   ]
  },
  {
   "cell_type": "markdown",
   "id": "d7290d7e",
   "metadata": {},
   "source": [
    "Univariate Analysis"
   ]
  },
  {
   "cell_type": "code",
   "execution_count": 9,
   "id": "c850f4da",
   "metadata": {},
   "outputs": [],
   "source": [
    "def univariateAnalysis_numeric(column,nbins):\n",
    "    print(\"Description of \" + column)\n",
    "    print(\"----------------------------------------------------------------------------\")\n",
    "    print(df2[column].describe(),end=' ')\n",
    "    \n",
    "    \n",
    "    plt.figure()\n",
    "    print(\"Distribution of \" + column)\n",
    "    print(\"----------------------------------------------------------------------------\")\n",
    "    sns.distplot(df2[column], kde=True);\n",
    "    plt.title(\"Distribution of \" + column,fontsize=10)\n",
    "    plt.show()\n",
    "    \n",
    "    plt.figure()\n",
    "    print(\"BoxPlot of \" + column)\n",
    "    print(\"----------------------------------------------------------------------------\")\n",
    "    ax = sns.boxplot(x=df2[column], orient = \"v\")\n",
    "    plt.title(\"Boxplot of \" + column,fontsize=10)\n",
    "    plt.show()\n",
    "    \n",
    "    plt.figure()\n",
    "    print(\"Histogram of \" + column)\n",
    "    print(\"----------------------------------------------------------------------------\")\n",
    "    ax1 = plt.hist(x=df2[column])\n",
    "    plt.title(\"Histogram of \" + column,fontsize=10)\n",
    "    plt.xlabel(\"\" + column, fontsize=10)\n",
    "    plt.show()"
   ]
  },
  {
   "cell_type": "code",
   "execution_count": 10,
   "id": "b80a19a0",
   "metadata": {},
   "outputs": [
    {
     "data": {
      "text/plain": [
       "4"
      ]
     },
     "execution_count": 10,
     "metadata": {},
     "output_type": "execute_result"
    }
   ],
   "source": [
    "df2_num = df2.select_dtypes(include = ['float64', 'int64'])\n",
    "lstnumericcolumns2 = list(df2_num.columns.values)\n",
    "len(lstnumericcolumns2)"
   ]
  },
  {
   "cell_type": "code",
   "execution_count": 11,
   "id": "da63341d",
   "metadata": {},
   "outputs": [
    {
     "data": {
      "text/html": [
       "<div>\n",
       "<style scoped>\n",
       "    .dataframe tbody tr th:only-of-type {\n",
       "        vertical-align: middle;\n",
       "    }\n",
       "\n",
       "    .dataframe tbody tr th {\n",
       "        vertical-align: top;\n",
       "    }\n",
       "\n",
       "    .dataframe thead th {\n",
       "        text-align: right;\n",
       "    }\n",
       "</style>\n",
       "<table border=\"1\" class=\"dataframe\">\n",
       "  <thead>\n",
       "    <tr style=\"text-align: right;\">\n",
       "      <th></th>\n",
       "      <th>Age</th>\n",
       "      <th>Commision</th>\n",
       "      <th>Duration</th>\n",
       "      <th>Sales</th>\n",
       "    </tr>\n",
       "  </thead>\n",
       "  <tbody>\n",
       "    <tr>\n",
       "      <th>0</th>\n",
       "      <td>48</td>\n",
       "      <td>0.70</td>\n",
       "      <td>7</td>\n",
       "      <td>2.51</td>\n",
       "    </tr>\n",
       "    <tr>\n",
       "      <th>1</th>\n",
       "      <td>36</td>\n",
       "      <td>0.00</td>\n",
       "      <td>34</td>\n",
       "      <td>20.00</td>\n",
       "    </tr>\n",
       "    <tr>\n",
       "      <th>2</th>\n",
       "      <td>39</td>\n",
       "      <td>5.94</td>\n",
       "      <td>3</td>\n",
       "      <td>9.90</td>\n",
       "    </tr>\n",
       "    <tr>\n",
       "      <th>3</th>\n",
       "      <td>36</td>\n",
       "      <td>0.00</td>\n",
       "      <td>4</td>\n",
       "      <td>26.00</td>\n",
       "    </tr>\n",
       "    <tr>\n",
       "      <th>4</th>\n",
       "      <td>33</td>\n",
       "      <td>6.30</td>\n",
       "      <td>53</td>\n",
       "      <td>18.00</td>\n",
       "    </tr>\n",
       "  </tbody>\n",
       "</table>\n",
       "</div>"
      ],
      "text/plain": [
       "   Age  Commision  Duration  Sales\n",
       "0   48       0.70         7   2.51\n",
       "1   36       0.00        34  20.00\n",
       "2   39       5.94         3   9.90\n",
       "3   36       0.00         4  26.00\n",
       "4   33       6.30        53  18.00"
      ]
     },
     "execution_count": 11,
     "metadata": {},
     "output_type": "execute_result"
    }
   ],
   "source": [
    "df2_num.head()"
   ]
  },
  {
   "cell_type": "code",
   "execution_count": 12,
   "id": "9cbcf626",
   "metadata": {},
   "outputs": [],
   "source": [
    "Skewness_2 = pd.DataFrame({'Skewness' : [stats.skew(df2.Age),stats.skew(df2.Commision),stats.skew(df2.Duration),stats.skew(df2.Sales)]},\n",
    "                        index=['Age','Commision','Duration','Sales']) "
   ]
  },
  {
   "cell_type": "code",
   "execution_count": 13,
   "id": "fb8efd4b",
   "metadata": {},
   "outputs": [
    {
     "data": {
      "text/html": [
       "<div>\n",
       "<style scoped>\n",
       "    .dataframe tbody tr th:only-of-type {\n",
       "        vertical-align: middle;\n",
       "    }\n",
       "\n",
       "    .dataframe tbody tr th {\n",
       "        vertical-align: top;\n",
       "    }\n",
       "\n",
       "    .dataframe thead th {\n",
       "        text-align: right;\n",
       "    }\n",
       "</style>\n",
       "<table border=\"1\" class=\"dataframe\">\n",
       "  <thead>\n",
       "    <tr style=\"text-align: right;\">\n",
       "      <th></th>\n",
       "      <th>Skewness</th>\n",
       "    </tr>\n",
       "  </thead>\n",
       "  <tbody>\n",
       "    <tr>\n",
       "      <th>Age</th>\n",
       "      <td>1.149138</td>\n",
       "    </tr>\n",
       "    <tr>\n",
       "      <th>Commision</th>\n",
       "      <td>3.147283</td>\n",
       "    </tr>\n",
       "    <tr>\n",
       "      <th>Duration</th>\n",
       "      <td>13.777788</td>\n",
       "    </tr>\n",
       "    <tr>\n",
       "      <th>Sales</th>\n",
       "      <td>2.379958</td>\n",
       "    </tr>\n",
       "  </tbody>\n",
       "</table>\n",
       "</div>"
      ],
      "text/plain": [
       "            Skewness\n",
       "Age         1.149138\n",
       "Commision   3.147283\n",
       "Duration   13.777788\n",
       "Sales       2.379958"
      ]
     },
     "execution_count": 13,
     "metadata": {},
     "output_type": "execute_result"
    }
   ],
   "source": [
    "Skewness_2"
   ]
  },
  {
   "cell_type": "code",
   "execution_count": 14,
   "id": "b607fca0",
   "metadata": {},
   "outputs": [
    {
     "name": "stdout",
     "output_type": "stream",
     "text": [
      "Description of Age\n",
      "----------------------------------------------------------------------------\n",
      "count    3000.000000\n",
      "mean       38.091000\n",
      "std        10.463518\n",
      "min         8.000000\n",
      "25%        32.000000\n",
      "50%        36.000000\n",
      "75%        42.000000\n",
      "max        84.000000\n",
      "Name: Age, dtype: float64 Distribution of Age\n",
      "----------------------------------------------------------------------------\n"
     ]
    },
    {
     "name": "stderr",
     "output_type": "stream",
     "text": [
      "C:\\Users\\Athulya\\anaconda3\\lib\\site-packages\\seaborn\\distributions.py:2557: FutureWarning: `distplot` is a deprecated function and will be removed in a future version. Please adapt your code to use either `displot` (a figure-level function with similar flexibility) or `histplot` (an axes-level function for histograms).\n",
      "  warnings.warn(msg, FutureWarning)\n"
     ]
    },
    {
     "data": {
      "image/png": "[encoded data removed]",
      "text/plain": [
       "<Figure size 432x288 with 1 Axes>"
      ]
     },
     "metadata": {
      "needs_background": "light"
     },
     "output_type": "display_data"
    },
    {
     "name": "stdout",
     "output_type": "stream",
     "text": [
      "BoxPlot of Age\n",
      "----------------------------------------------------------------------------\n"
     ]
    },
    {
     "name": "stderr",
     "output_type": "stream",
     "text": [
      "C:\\Users\\Athulya\\anaconda3\\lib\\site-packages\\seaborn\\_core.py:1319: UserWarning: Vertical orientation ignored with only `x` specified.\n",
      "  warnings.warn(single_var_warning.format(\"Vertical\", \"x\"))\n"
     ]
    },
    {
     "data": {
      "image/png": "[encoded data removed]",
      "text/plain": [
       "<Figure size 432x288 with 1 Axes>"
      ]
     },
     "metadata": {
      "needs_background": "light"
     },
     "output_type": "display_data"
    },
    {
     "name": "stdout",
     "output_type": "stream",
     "text": [
      "Histogram of Age\n",
      "----------------------------------------------------------------------------\n"
     ]
    },
    {
     "data": {
      "image/png": "[encoded data removed]",
      "text/plain": [
       "<Figure size 432x288 with 1 Axes>"
      ]
     },
     "metadata": {
      "needs_background": "light"
     },
     "output_type": "display_data"
    },
    {
     "name": "stdout",
     "output_type": "stream",
     "text": [
      "Description of Commision\n",
      "----------------------------------------------------------------------------\n",
      "count    3000.000000\n",
      "mean       14.529203\n",
      "std        25.481455\n",
      "min         0.000000\n",
      "25%         0.000000\n",
      "50%         4.630000\n",
      "75%        17.235000\n",
      "max       210.210000\n",
      "Name: Commision, dtype: float64 Distribution of Commision\n",
      "----------------------------------------------------------------------------\n"
     ]
    },
    {
     "name": "stderr",
     "output_type": "stream",
     "text": [
      "C:\\Users\\Athulya\\anaconda3\\lib\\site-packages\\seaborn\\distributions.py:2557: FutureWarning: `distplot` is a deprecated function and will be removed in a future version. Please adapt your code to use either `displot` (a figure-level function with similar flexibility) or `histplot` (an axes-level function for histograms).\n",
      "  warnings.warn(msg, FutureWarning)\n"
     ]
    },
    {
     "data": {
      "image/png": "[encoded data removed]",
      "text/plain": [
       "<Figure size 432x288 with 1 Axes>"
      ]
     },
     "metadata": {
      "needs_background": "light"
     },
     "output_type": "display_data"
    },
    {
     "name": "stdout",
     "output_type": "stream",
     "text": [
      "BoxPlot of Commision\n",
      "----------------------------------------------------------------------------\n"
     ]
    },
    {
     "name": "stderr",
     "output_type": "stream",
     "text": [
      "C:\\Users\\Athulya\\anaconda3\\lib\\site-packages\\seaborn\\_core.py:1319: UserWarning: Vertical orientation ignored with only `x` specified.\n",
      "  warnings.warn(single_var_warning.format(\"Vertical\", \"x\"))\n"
     ]
    },
    {
     "data": {
      "image/png": "[encoded data removed]",
      "text/plain": [
       "<Figure size 432x288 with 1 Axes>"
      ]
     },
     "metadata": {
      "needs_background": "light"
     },
     "output_type": "display_data"
    },
    {
     "name": "stdout",
     "output_type": "stream",
     "text": [
      "Histogram of Commision\n",
      "----------------------------------------------------------------------------\n"
     ]
    },
    {
     "data": {
      "image/png": "[encoded data removed]",
      "text/plain": [
       "<Figure size 432x288 with 1 Axes>"
      ]
     },
     "metadata": {
      "needs_background": "light"
     },
     "output_type": "display_data"
    },
    {
     "name": "stdout",
     "output_type": "stream",
     "text": [
      "Description of Duration\n",
      "----------------------------------------------------------------------------\n",
      "count    3000.000000\n",
      "mean       70.001333\n",
      "std       134.053313\n",
      "min        -1.000000\n",
      "25%        11.000000\n",
      "50%        26.500000\n",
      "75%        63.000000\n",
      "max      4580.000000\n",
      "Name: Duration, dtype: float64 Distribution of Duration\n",
      "----------------------------------------------------------------------------\n"
     ]
    },
    {
     "name": "stderr",
     "output_type": "stream",
     "text": [
      "C:\\Users\\Athulya\\anaconda3\\lib\\site-packages\\seaborn\\distributions.py:2557: FutureWarning: `distplot` is a deprecated function and will be removed in a future version. Please adapt your code to use either `displot` (a figure-level function with similar flexibility) or `histplot` (an axes-level function for histograms).\n",
      "  warnings.warn(msg, FutureWarning)\n"
     ]
    },
    {
     "data": {
      "image/png": "[encoded data removed]",
      "text/plain": [
       "<Figure size 432x288 with 1 Axes>"
      ]
     },
     "metadata": {
      "needs_background": "light"
     },
     "output_type": "display_data"
    },
    {
     "name": "stderr",
     "output_type": "stream",
     "text": [
      "C:\\Users\\Athulya\\anaconda3\\lib\\site-packages\\seaborn\\_core.py:1319: UserWarning: Vertical orientation ignored with only `x` specified.\n",
      "  warnings.warn(single_var_warning.format(\"Vertical\", \"x\"))\n"
     ]
    },
    {
     "name": "stdout",
     "output_type": "stream",
     "text": [
      "BoxPlot of Duration\n",
      "----------------------------------------------------------------------------\n"
     ]
    },
    {
     "data": {
      "image/png": "[encoded data removed]",
      "text/plain": [
       "<Figure size 432x288 with 1 Axes>"
      ]
     },
     "metadata": {
      "needs_background": "light"
     },
     "output_type": "display_data"
    },
    {
     "name": "stdout",
     "output_type": "stream",
     "text": [
      "Histogram of Duration\n",
      "----------------------------------------------------------------------------\n"
     ]
    },
    {
     "data": {
      "image/png": "[encoded data removed]",
      "text/plain": [
       "<Figure size 432x288 with 1 Axes>"
      ]
     },
     "metadata": {
      "needs_background": "light"
     },
     "output_type": "display_data"
    },
    {
     "name": "stdout",
     "output_type": "stream",
     "text": [
      "Description of Sales\n",
      "----------------------------------------------------------------------------\n",
      "count    3000.000000\n",
      "mean       60.249913\n",
      "std        70.733954\n",
      "min         0.000000\n",
      "25%        20.000000\n",
      "50%        33.000000\n",
      "75%        69.000000\n",
      "max       539.000000\n",
      "Name: Sales, dtype: float64 Distribution of Sales\n",
      "----------------------------------------------------------------------------\n"
     ]
    },
    {
     "name": "stderr",
     "output_type": "stream",
     "text": [
      "C:\\Users\\Athulya\\anaconda3\\lib\\site-packages\\seaborn\\distributions.py:2557: FutureWarning: `distplot` is a deprecated function and will be removed in a future version. Please adapt your code to use either `displot` (a figure-level function with similar flexibility) or `histplot` (an axes-level function for histograms).\n",
      "  warnings.warn(msg, FutureWarning)\n"
     ]
    },
    {
     "data": {
      "image/png": "[encoded data removed]",
      "text/plain": [
       "<Figure size 432x288 with 1 Axes>"
      ]
     },
     "metadata": {
      "needs_background": "light"
     },
     "output_type": "display_data"
    },
    {
     "name": "stdout",
     "output_type": "stream",
     "text": [
      "BoxPlot of Sales\n",
      "----------------------------------------------------------------------------\n"
     ]
    },
    {
     "name": "stderr",
     "output_type": "stream",
     "text": [
      "C:\\Users\\Athulya\\anaconda3\\lib\\site-packages\\seaborn\\_core.py:1319: UserWarning: Vertical orientation ignored with only `x` specified.\n",
      "  warnings.warn(single_var_warning.format(\"Vertical\", \"x\"))\n"
     ]
    },
    {
     "data": {
      "image/png": "[encoded data removed]",
      "text/plain": [
       "<Figure size 432x288 with 1 Axes>"
      ]
     },
     "metadata": {
      "needs_background": "light"
     },
     "output_type": "display_data"
    },
    {
     "name": "stdout",
     "output_type": "stream",
     "text": [
      "Histogram of Sales\n",
      "----------------------------------------------------------------------------\n"
     ]
    },
    {
     "data": {
      "image/png": "[encoded data removed]",
      "text/plain": [
       "<Figure size 432x288 with 1 Axes>"
      ]
     },
     "metadata": {
      "needs_background": "light"
     },
     "output_type": "display_data"
    }
   ],
   "source": [
    "for x in lstnumericcolumns2:\n",
    "    univariateAnalysis_numeric(x,4)"
   ]
  },
  {
   "cell_type": "code",
   "execution_count": 15,
   "id": "b28142b4",
   "metadata": {},
   "outputs": [
    {
     "data": {
      "text/plain": [
       "<AxesSubplot:title={'center':'Countplot of Agency_code'}, xlabel='Agency_Code', ylabel='count'>"
      ]
     },
     "execution_count": 15,
     "metadata": {},
     "output_type": "execute_result"
    },
    {
     "data": {
      "image/png": "[encoded data removed]",
      "text/plain": [
       "<Figure size 432x288 with 1 Axes>"
      ]
     },
     "metadata": {
      "needs_background": "light"
     },
     "output_type": "display_data"
    }
   ],
   "source": [
    "plt.title('Countplot of Agency_code')\n",
    "sns.countplot(data = df2, x = 'Agency_Code')"
   ]
  },
  {
   "cell_type": "code",
   "execution_count": 16,
   "id": "9c6e51d6",
   "metadata": {},
   "outputs": [
    {
     "data": {
      "text/plain": [
       "<AxesSubplot:title={'center':'Countplot of Type'}, xlabel='Type', ylabel='count'>"
      ]
     },
     "execution_count": 16,
     "metadata": {},
     "output_type": "execute_result"
    },
    {
     "data": {
      "image/png": "[encoded data removed]",
      "text/plain": [
       "<Figure size 432x288 with 1 Axes>"
      ]
     },
     "metadata": {
      "needs_background": "light"
     },
     "output_type": "display_data"
    }
   ],
   "source": [
    "plt.title('Countplot of Type')\n",
    "sns.countplot(data = df2, x = 'Type')"
   ]
  },
  {
   "cell_type": "code",
   "execution_count": 17,
   "id": "52988287",
   "metadata": {},
   "outputs": [
    {
     "data": {
      "text/plain": [
       "<AxesSubplot:title={'center':'Countplot of Claimed'}, xlabel='Claimed', ylabel='count'>"
      ]
     },
     "execution_count": 17,
     "metadata": {},
     "output_type": "execute_result"
    },
    {
     "data": {
      "image/png": "[encoded data removed]",
      "text/plain": [
       "<Figure size 432x288 with 1 Axes>"
      ]
     },
     "metadata": {
      "needs_background": "light"
     },
     "output_type": "display_data"
    }
   ],
   "source": [
    "plt.title('Countplot of Claimed')\n",
    "sns.countplot(data = df2, x = 'Claimed')"
   ]
  },
  {
   "cell_type": "code",
   "execution_count": 18,
   "id": "304bdfd0",
   "metadata": {},
   "outputs": [
    {
     "data": {
      "text/plain": [
       "<AxesSubplot:title={'center':'Countplot of Channel'}, xlabel='Channel', ylabel='count'>"
      ]
     },
     "execution_count": 18,
     "metadata": {},
     "output_type": "execute_result"
    },
    {
     "data": {
      "image/png": "[encoded data removed]",
      "text/plain": [
       "<Figure size 432x288 with 1 Axes>"
      ]
     },
     "metadata": {
      "needs_background": "light"
     },
     "output_type": "display_data"
    }
   ],
   "source": [
    "plt.title('Countplot of Channel')\n",
    "sns.countplot(data = df2, x = 'Channel')"
   ]
  },
  {
   "cell_type": "code",
   "execution_count": 19,
   "id": "ea37c746",
   "metadata": {},
   "outputs": [
    {
     "data": {
      "text/plain": [
       "<AxesSubplot:title={'center':'Countplot of Product Name'}, xlabel='Product Name', ylabel='count'>"
      ]
     },
     "execution_count": 19,
     "metadata": {},
     "output_type": "execute_result"
    },
    {
     "data": {
      "image/png": "[encoded data removed]",
      "text/plain": [
       "<Figure size 720x360 with 1 Axes>"
      ]
     },
     "metadata": {
      "needs_background": "light"
     },
     "output_type": "display_data"
    }
   ],
   "source": [
    "plt.figure(figsize=(10,5))\n",
    "plt.title('Countplot of Product Name')\n",
    "sns.countplot(data = df2, x = 'Product Name')"
   ]
  },
  {
   "cell_type": "code",
   "execution_count": 20,
   "id": "e7e34987",
   "metadata": {},
   "outputs": [
    {
     "data": {
      "text/plain": [
       "<AxesSubplot:title={'center':'Countplot of Destination'}, xlabel='Destination', ylabel='count'>"
      ]
     },
     "execution_count": 20,
     "metadata": {},
     "output_type": "execute_result"
    },
    {
     "data": {
      "image/png": "[encoded data removed]",
      "text/plain": [
       "<Figure size 432x288 with 1 Axes>"
      ]
     },
     "metadata": {
      "needs_background": "light"
     },
     "output_type": "display_data"
    }
   ],
   "source": [
    "plt.title('Countplot of Destination')\n",
    "sns.countplot(data = df2, x = 'Destination')"
   ]
  },
  {
   "cell_type": "markdown",
   "id": "33c41a54",
   "metadata": {},
   "source": [
    "Bivariate Analysis"
   ]
  },
  {
   "cell_type": "code",
   "execution_count": 21,
   "id": "07891623",
   "metadata": {},
   "outputs": [
    {
     "data": {
      "text/html": [
       "<div>\n",
       "<style scoped>\n",
       "    .dataframe tbody tr th:only-of-type {\n",
       "        vertical-align: middle;\n",
       "    }\n",
       "\n",
       "    .dataframe tbody tr th {\n",
       "        vertical-align: top;\n",
       "    }\n",
       "\n",
       "    .dataframe thead th {\n",
       "        text-align: right;\n",
       "    }\n",
       "</style>\n",
       "<table border=\"1\" class=\"dataframe\">\n",
       "  <thead>\n",
       "    <tr style=\"text-align: right;\">\n",
       "      <th></th>\n",
       "      <th>Age</th>\n",
       "      <th>Commision</th>\n",
       "      <th>Duration</th>\n",
       "      <th>Sales</th>\n",
       "    </tr>\n",
       "  </thead>\n",
       "  <tbody>\n",
       "    <tr>\n",
       "      <th>Age</th>\n",
       "      <td>1.000000</td>\n",
       "      <td>0.067717</td>\n",
       "      <td>0.030425</td>\n",
       "      <td>0.039455</td>\n",
       "    </tr>\n",
       "    <tr>\n",
       "      <th>Commision</th>\n",
       "      <td>0.067717</td>\n",
       "      <td>1.000000</td>\n",
       "      <td>0.471389</td>\n",
       "      <td>0.766505</td>\n",
       "    </tr>\n",
       "    <tr>\n",
       "      <th>Duration</th>\n",
       "      <td>0.030425</td>\n",
       "      <td>0.471389</td>\n",
       "      <td>1.000000</td>\n",
       "      <td>0.558930</td>\n",
       "    </tr>\n",
       "    <tr>\n",
       "      <th>Sales</th>\n",
       "      <td>0.039455</td>\n",
       "      <td>0.766505</td>\n",
       "      <td>0.558930</td>\n",
       "      <td>1.000000</td>\n",
       "    </tr>\n",
       "  </tbody>\n",
       "</table>\n",
       "</div>"
      ],
      "text/plain": [
       "                Age  Commision  Duration     Sales\n",
       "Age        1.000000   0.067717  0.030425  0.039455\n",
       "Commision  0.067717   1.000000  0.471389  0.766505\n",
       "Duration   0.030425   0.471389  1.000000  0.558930\n",
       "Sales      0.039455   0.766505  0.558930  1.000000"
      ]
     },
     "execution_count": 21,
     "metadata": {},
     "output_type": "execute_result"
    }
   ],
   "source": [
    "corr2 = df2_num.corr(method='pearson')\n",
    "corr2"
   ]
  },
  {
   "cell_type": "code",
   "execution_count": 22,
   "id": "2116cc51",
   "metadata": {},
   "outputs": [
    {
     "data": {
      "text/plain": [
       "<AxesSubplot:>"
      ]
     },
     "execution_count": 22,
     "metadata": {},
     "output_type": "execute_result"
    },
    {
     "data": {
      "image/png": "[encoded data removed]",
      "text/plain": [
       "<Figure size 720x576 with 2 Axes>"
      ]
     },
     "metadata": {
      "needs_background": "light"
     },
     "output_type": "display_data"
    }
   ],
   "source": [
    "plt.figure(figsize=(10,8))\n",
    "sns.heatmap(corr2, annot=True, fmt = '.2f', cmap = 'Blues')"
   ]
  },
  {
   "cell_type": "code",
   "execution_count": 23,
   "id": "c8a9c3f1",
   "metadata": {},
   "outputs": [
    {
     "data": {
      "text/plain": [
       "<AxesSubplot:title={'center':'Countplot of Agency_code'}, xlabel='Agency_Code', ylabel='count'>"
      ]
     },
     "execution_count": 23,
     "metadata": {},
     "output_type": "execute_result"
    },
    {
     "data": {
      "image/png": "[encoded data removed]",
      "text/plain": [
       "<Figure size 720x360 with 1 Axes>"
      ]
     },
     "metadata": {
      "needs_background": "light"
     },
     "output_type": "display_data"
    }
   ],
   "source": [
    "plt.figure(figsize=(10,5))\n",
    "plt.title('Countplot of Agency_code')\n",
    "sns.countplot(x='Agency_Code',hue='Claimed',data=df2)"
   ]
  },
  {
   "cell_type": "code",
   "execution_count": 24,
   "id": "66ecd09f",
   "metadata": {},
   "outputs": [
    {
     "data": {
      "text/plain": [
       "<AxesSubplot:title={'center':'Countplot of Type'}, xlabel='Type', ylabel='count'>"
      ]
     },
     "execution_count": 24,
     "metadata": {},
     "output_type": "execute_result"
    },
    {
     "data": {
      "image/png": "[encoded data removed]",
      "text/plain": [
       "<Figure size 720x360 with 1 Axes>"
      ]
     },
     "metadata": {
      "needs_background": "light"
     },
     "output_type": "display_data"
    }
   ],
   "source": [
    "plt.figure(figsize=(10,5))\n",
    "plt.title('Countplot of Type')\n",
    "sns.countplot(x='Type',hue='Claimed',data=df2)"
   ]
  },
  {
   "cell_type": "code",
   "execution_count": 25,
   "id": "6bee738a",
   "metadata": {},
   "outputs": [
    {
     "data": {
      "text/plain": [
       "<AxesSubplot:title={'center':'Countplot of Channel'}, xlabel='Channel', ylabel='count'>"
      ]
     },
     "execution_count": 25,
     "metadata": {},
     "output_type": "execute_result"
    },
    {
     "data": {
      "image/png": "[encoded data removed]",
      "text/plain": [
       "<Figure size 720x360 with 1 Axes>"
      ]
     },
     "metadata": {
      "needs_background": "light"
     },
     "output_type": "display_data"
    }
   ],
   "source": [
    "plt.figure(figsize=(10,5))\n",
    "plt.title('Countplot of Channel')\n",
    "sns.countplot(x='Channel',hue='Claimed',data=df2)"
   ]
  },
  {
   "cell_type": "code",
   "execution_count": 26,
   "id": "1022e56c",
   "metadata": {},
   "outputs": [
    {
     "data": {
      "text/plain": [
       "<AxesSubplot:title={'center':'Countplot of Product Name'}, xlabel='Product Name', ylabel='count'>"
      ]
     },
     "execution_count": 26,
     "metadata": {},
     "output_type": "execute_result"
    },
    {
     "data": {
      "image/png": "[encoded data removed]",
      "text/plain": [
       "<Figure size 720x360 with 1 Axes>"
      ]
     },
     "metadata": {
      "needs_background": "light"
     },
     "output_type": "display_data"
    }
   ],
   "source": [
    "plt.figure(figsize=(10,5))\n",
    "plt.title('Countplot of Product Name')\n",
    "sns.countplot(x='Product Name',hue='Claimed',data=df2)"
   ]
  },
  {
   "cell_type": "code",
   "execution_count": 27,
   "id": "5330d15a",
   "metadata": {},
   "outputs": [
    {
     "data": {
      "text/plain": [
       "<AxesSubplot:title={'center':'Countplot of Destination'}, xlabel='Destination', ylabel='count'>"
      ]
     },
     "execution_count": 27,
     "metadata": {},
     "output_type": "execute_result"
    },
    {
     "data": {
      "image/png": "[encoded data removed]",
      "text/plain": [
       "<Figure size 720x360 with 1 Axes>"
      ]
     },
     "metadata": {
      "needs_background": "light"
     },
     "output_type": "display_data"
    }
   ],
   "source": [
    "plt.figure(figsize=(10,5))\n",
    "plt.title('Countplot of Destination')\n",
    "sns.countplot(x='Destination',hue='Claimed',data=df2)"
   ]
  },
  {
   "cell_type": "markdown",
   "id": "a52c24e9",
   "metadata": {},
   "source": [
    "Multivariate Analysis"
   ]
  },
  {
   "cell_type": "code",
   "execution_count": 28,
   "id": "5e173c41",
   "metadata": {},
   "outputs": [
    {
     "data": {
      "image/png": "[encoded data removed]",
      "text/plain": [
       "<Figure size 720x720 with 20 Axes>"
      ]
     },
     "metadata": {
      "needs_background": "light"
     },
     "output_type": "display_data"
    }
   ],
   "source": [
    "sns.pairplot(df2, diag_kind='kde')\n",
    "plt.tight_layout()"
   ]
  },
  {
   "cell_type": "code",
   "execution_count": 29,
   "id": "86790f66",
   "metadata": {},
   "outputs": [
    {
     "data": {
      "text/plain": [
       "<AxesSubplot:title={'center':'Boxplot of Agency_code'}, xlabel='Agency_Code', ylabel='Sales'>"
      ]
     },
     "execution_count": 29,
     "metadata": {},
     "output_type": "execute_result"
    },
    {
     "data": {
      "image/png": "[encoded data removed]",
      "text/plain": [
       "<Figure size 720x360 with 1 Axes>"
      ]
     },
     "metadata": {
      "needs_background": "light"
     },
     "output_type": "display_data"
    }
   ],
   "source": [
    "plt.figure(figsize=(10,5))\n",
    "plt.title('Boxplot of Agency_code')\n",
    "sns.boxplot(data = df2, x='Agency_Code',y='Sales', hue='Claimed')"
   ]
  },
  {
   "cell_type": "code",
   "execution_count": 30,
   "id": "b8941255",
   "metadata": {},
   "outputs": [
    {
     "data": {
      "text/plain": [
       "<AxesSubplot:title={'center':'Boxplot of Type'}, xlabel='Type', ylabel='Sales'>"
      ]
     },
     "execution_count": 30,
     "metadata": {},
     "output_type": "execute_result"
    },
    {
     "data": {
      "image/png": "[encoded data removed]",
      "text/plain": [
       "<Figure size 432x288 with 1 Axes>"
      ]
     },
     "metadata": {
      "needs_background": "light"
     },
     "output_type": "display_data"
    }
   ],
   "source": [
    "plt.title('Boxplot of Type')\n",
    "sns.boxplot(data = df2, x='Type',y='Sales', hue='Claimed')"
   ]
  },
  {
   "cell_type": "code",
   "execution_count": 31,
   "id": "22a48b2a",
   "metadata": {},
   "outputs": [
    {
     "data": {
      "text/plain": [
       "<AxesSubplot:title={'center':'Boxplot of Claimed'}, xlabel='Claimed', ylabel='Sales'>"
      ]
     },
     "execution_count": 31,
     "metadata": {},
     "output_type": "execute_result"
    },
    {
     "data": {
      "image/png": "[encoded data removed]",
      "text/plain": [
       "<Figure size 432x288 with 1 Axes>"
      ]
     },
     "metadata": {
      "needs_background": "light"
     },
     "output_type": "display_data"
    }
   ],
   "source": [
    "plt.title('Boxplot of Claimed')\n",
    "sns.boxplot(data = df2, x='Claimed',y='Sales')"
   ]
  },
  {
   "cell_type": "code",
   "execution_count": 32,
   "id": "4a056548",
   "metadata": {},
   "outputs": [
    {
     "data": {
      "text/plain": [
       "<AxesSubplot:title={'center':'Boxplot of Channel'}, xlabel='Channel', ylabel='Sales'>"
      ]
     },
     "execution_count": 32,
     "metadata": {},
     "output_type": "execute_result"
    },
    {
     "data": {
      "image/png": "[encoded data removed]",
      "text/plain": [
       "<Figure size 720x360 with 1 Axes>"
      ]
     },
     "metadata": {
      "needs_background": "light"
     },
     "output_type": "display_data"
    }
   ],
   "source": [
    "plt.figure(figsize=(10,5))\n",
    "plt.title('Boxplot of Channel')\n",
    "sns.boxplot(data = df2, x='Channel',y='Sales', hue='Claimed')"
   ]
  },
  {
   "cell_type": "code",
   "execution_count": 33,
   "id": "32c8aa00",
   "metadata": {},
   "outputs": [
    {
     "data": {
      "text/plain": [
       "<AxesSubplot:title={'center':'Boxplot of Product Name'}, xlabel='Product Name', ylabel='Sales'>"
      ]
     },
     "execution_count": 33,
     "metadata": {},
     "output_type": "execute_result"
    },
    {
     "data": {
      "image/png": "[encoded data removed]",
      "text/plain": [
       "<Figure size 720x360 with 1 Axes>"
      ]
     },
     "metadata": {
      "needs_background": "light"
     },
     "output_type": "display_data"
    }
   ],
   "source": [
    "plt.figure(figsize=(10,5))\n",
    "plt.title('Boxplot of Product Name')\n",
    "sns.boxplot(data = df2, x='Product Name',y='Sales', hue='Claimed')"
   ]
  },
  {
   "cell_type": "code",
   "execution_count": 34,
   "id": "be9986fa",
   "metadata": {},
   "outputs": [
    {
     "data": {
      "text/plain": [
       "<AxesSubplot:title={'center':'Boxplot of Destination'}, xlabel='Destination', ylabel='Sales'>"
      ]
     },
     "execution_count": 34,
     "metadata": {},
     "output_type": "execute_result"
    },
    {
     "data": {
      "image/png": "[encoded data removed]",
      "text/plain": [
       "<Figure size 720x360 with 1 Axes>"
      ]
     },
     "metadata": {
      "needs_background": "light"
     },
     "output_type": "display_data"
    }
   ],
   "source": [
    "plt.figure(figsize=(10,5))\n",
    "plt.title('Boxplot of Destination')\n",
    "sns.boxplot(data = df2, x='Destination',y='Sales', hue='Claimed')"
   ]
  },
  {
   "cell_type": "code",
   "execution_count": 35,
   "id": "c6f1886d",
   "metadata": {},
   "outputs": [],
   "source": [
    "for feature in df2.columns:\n",
    "    if df2[feature].dtype == 'object':\n",
    "        df2[feature] = pd.Categorical(df2[feature]).codes"
   ]
  },
  {
   "cell_type": "code",
   "execution_count": 36,
   "id": "7b5aaeca",
   "metadata": {},
   "outputs": [
    {
     "name": "stdout",
     "output_type": "stream",
     "text": [
      "<class 'pandas.core.frame.DataFrame'>\n",
      "RangeIndex: 3000 entries, 0 to 2999\n",
      "Data columns (total 10 columns):\n",
      " #   Column        Non-Null Count  Dtype  \n",
      "---  ------        --------------  -----  \n",
      " 0   Age           3000 non-null   int64  \n",
      " 1   Agency_Code   3000 non-null   int8   \n",
      " 2   Type          3000 non-null   int8   \n",
      " 3   Claimed       3000 non-null   int8   \n",
      " 4   Commision     3000 non-null   float64\n",
      " 5   Channel       3000 non-null   int8   \n",
      " 6   Duration      3000 non-null   int64  \n",
      " 7   Sales         3000 non-null   float64\n",
      " 8   Product Name  3000 non-null   int8   \n",
      " 9   Destination   3000 non-null   int8   \n",
      "dtypes: float64(2), int64(2), int8(6)\n",
      "memory usage: 111.5 KB\n"
     ]
    }
   ],
   "source": [
    "df2.info()"
   ]
  },
  {
   "cell_type": "code",
   "execution_count": 37,
   "id": "9077d788",
   "metadata": {},
   "outputs": [
    {
     "data": {
      "text/html": [
       "<div>\n",
       "<style scoped>\n",
       "    .dataframe tbody tr th:only-of-type {\n",
       "        vertical-align: middle;\n",
       "    }\n",
       "\n",
       "    .dataframe tbody tr th {\n",
       "        vertical-align: top;\n",
       "    }\n",
       "\n",
       "    .dataframe thead th {\n",
       "        text-align: right;\n",
       "    }\n",
       "</style>\n",
       "<table border=\"1\" class=\"dataframe\">\n",
       "  <thead>\n",
       "    <tr style=\"text-align: right;\">\n",
       "      <th></th>\n",
       "      <th>Age</th>\n",
       "      <th>Agency_Code</th>\n",
       "      <th>Type</th>\n",
       "      <th>Claimed</th>\n",
       "      <th>Commision</th>\n",
       "      <th>Channel</th>\n",
       "      <th>Duration</th>\n",
       "      <th>Sales</th>\n",
       "      <th>Product Name</th>\n",
       "      <th>Destination</th>\n",
       "    </tr>\n",
       "  </thead>\n",
       "  <tbody>\n",
       "    <tr>\n",
       "      <th>0</th>\n",
       "      <td>48</td>\n",
       "      <td>0</td>\n",
       "      <td>0</td>\n",
       "      <td>0</td>\n",
       "      <td>0.70</td>\n",
       "      <td>1</td>\n",
       "      <td>7</td>\n",
       "      <td>2.51</td>\n",
       "      <td>2</td>\n",
       "      <td>0</td>\n",
       "    </tr>\n",
       "    <tr>\n",
       "      <th>1</th>\n",
       "      <td>36</td>\n",
       "      <td>2</td>\n",
       "      <td>1</td>\n",
       "      <td>0</td>\n",
       "      <td>0.00</td>\n",
       "      <td>1</td>\n",
       "      <td>34</td>\n",
       "      <td>20.00</td>\n",
       "      <td>2</td>\n",
       "      <td>0</td>\n",
       "    </tr>\n",
       "    <tr>\n",
       "      <th>2</th>\n",
       "      <td>39</td>\n",
       "      <td>1</td>\n",
       "      <td>1</td>\n",
       "      <td>0</td>\n",
       "      <td>5.94</td>\n",
       "      <td>1</td>\n",
       "      <td>3</td>\n",
       "      <td>9.90</td>\n",
       "      <td>2</td>\n",
       "      <td>1</td>\n",
       "    </tr>\n",
       "    <tr>\n",
       "      <th>3</th>\n",
       "      <td>36</td>\n",
       "      <td>2</td>\n",
       "      <td>1</td>\n",
       "      <td>0</td>\n",
       "      <td>0.00</td>\n",
       "      <td>1</td>\n",
       "      <td>4</td>\n",
       "      <td>26.00</td>\n",
       "      <td>1</td>\n",
       "      <td>0</td>\n",
       "    </tr>\n",
       "    <tr>\n",
       "      <th>4</th>\n",
       "      <td>33</td>\n",
       "      <td>3</td>\n",
       "      <td>0</td>\n",
       "      <td>0</td>\n",
       "      <td>6.30</td>\n",
       "      <td>1</td>\n",
       "      <td>53</td>\n",
       "      <td>18.00</td>\n",
       "      <td>0</td>\n",
       "      <td>0</td>\n",
       "    </tr>\n",
       "  </tbody>\n",
       "</table>\n",
       "</div>"
      ],
      "text/plain": [
       "   Age  Agency_Code  Type  Claimed  Commision  Channel  Duration  Sales  \\\n",
       "0   48            0     0        0       0.70        1         7   2.51   \n",
       "1   36            2     1        0       0.00        1        34  20.00   \n",
       "2   39            1     1        0       5.94        1         3   9.90   \n",
       "3   36            2     1        0       0.00        1         4  26.00   \n",
       "4   33            3     0        0       6.30        1        53  18.00   \n",
       "\n",
       "   Product Name  Destination  \n",
       "0             2            0  \n",
       "1             2            0  \n",
       "2             2            1  \n",
       "3             1            0  \n",
       "4             0            0  "
      ]
     },
     "execution_count": 37,
     "metadata": {},
     "output_type": "execute_result"
    }
   ],
   "source": [
    "df2.head()"
   ]
  },
  {
   "cell_type": "code",
   "execution_count": 38,
   "id": "46e085e2",
   "metadata": {},
   "outputs": [
    {
     "data": {
      "text/plain": [
       "0    0.692\n",
       "1    0.308\n",
       "Name: Claimed, dtype: float64"
      ]
     },
     "execution_count": 38,
     "metadata": {},
     "output_type": "execute_result"
    }
   ],
   "source": [
    "df2.Claimed.value_counts(normalize=True)"
   ]
  },
  {
   "cell_type": "markdown",
   "id": "d9ff0c23",
   "metadata": {},
   "source": [
    "2.2 Data Split: Split the data into test and train, build classification model CART, Random Forest, Artificial Neural Network\n"
   ]
  },
  {
   "cell_type": "code",
   "execution_count": 39,
   "id": "54958d34",
   "metadata": {},
   "outputs": [],
   "source": [
    "X = df2.drop(\"Claimed\", axis=1)\n",
    "y = df2.pop(\"Claimed\")"
   ]
  },
  {
   "cell_type": "code",
   "execution_count": 40,
   "id": "cf5da346",
   "metadata": {},
   "outputs": [],
   "source": [
    "from sklearn.model_selection import train_test_split\n",
    "\n",
    "X_train, X_test, train_labels, test_labels = train_test_split(X, y, test_size=.30, random_state=1)"
   ]
  },
  {
   "cell_type": "code",
   "execution_count": 41,
   "id": "387279a5",
   "metadata": {},
   "outputs": [
    {
     "data": {
      "text/html": [
       "<div>\n",
       "<style scoped>\n",
       "    .dataframe tbody tr th:only-of-type {\n",
       "        vertical-align: middle;\n",
       "    }\n",
       "\n",
       "    .dataframe tbody tr th {\n",
       "        vertical-align: top;\n",
       "    }\n",
       "\n",
       "    .dataframe thead th {\n",
       "        text-align: right;\n",
       "    }\n",
       "</style>\n",
       "<table border=\"1\" class=\"dataframe\">\n",
       "  <thead>\n",
       "    <tr style=\"text-align: right;\">\n",
       "      <th></th>\n",
       "      <th>Age</th>\n",
       "      <th>Agency_Code</th>\n",
       "      <th>Type</th>\n",
       "      <th>Commision</th>\n",
       "      <th>Channel</th>\n",
       "      <th>Duration</th>\n",
       "      <th>Sales</th>\n",
       "      <th>Product Name</th>\n",
       "      <th>Destination</th>\n",
       "    </tr>\n",
       "  </thead>\n",
       "  <tbody>\n",
       "    <tr>\n",
       "      <th>0</th>\n",
       "      <td>0.947162</td>\n",
       "      <td>-1.314358</td>\n",
       "      <td>-1.256796</td>\n",
       "      <td>-0.542807</td>\n",
       "      <td>0.124788</td>\n",
       "      <td>-0.470051</td>\n",
       "      <td>-0.816433</td>\n",
       "      <td>0.268835</td>\n",
       "      <td>-0.434646</td>\n",
       "    </tr>\n",
       "    <tr>\n",
       "      <th>1</th>\n",
       "      <td>-0.199870</td>\n",
       "      <td>0.697928</td>\n",
       "      <td>0.795674</td>\n",
       "      <td>-0.570282</td>\n",
       "      <td>0.124788</td>\n",
       "      <td>-0.268605</td>\n",
       "      <td>-0.569127</td>\n",
       "      <td>0.268835</td>\n",
       "      <td>-0.434646</td>\n",
       "    </tr>\n",
       "    <tr>\n",
       "      <th>2</th>\n",
       "      <td>0.086888</td>\n",
       "      <td>-0.308215</td>\n",
       "      <td>0.795674</td>\n",
       "      <td>-0.337133</td>\n",
       "      <td>0.124788</td>\n",
       "      <td>-0.499894</td>\n",
       "      <td>-0.711940</td>\n",
       "      <td>0.268835</td>\n",
       "      <td>1.303937</td>\n",
       "    </tr>\n",
       "    <tr>\n",
       "      <th>3</th>\n",
       "      <td>-0.199870</td>\n",
       "      <td>0.697928</td>\n",
       "      <td>0.795674</td>\n",
       "      <td>-0.570282</td>\n",
       "      <td>0.124788</td>\n",
       "      <td>-0.492433</td>\n",
       "      <td>-0.484288</td>\n",
       "      <td>-0.525751</td>\n",
       "      <td>-0.434646</td>\n",
       "    </tr>\n",
       "    <tr>\n",
       "      <th>4</th>\n",
       "      <td>-0.486629</td>\n",
       "      <td>1.704071</td>\n",
       "      <td>-1.256796</td>\n",
       "      <td>-0.323003</td>\n",
       "      <td>0.124788</td>\n",
       "      <td>-0.126846</td>\n",
       "      <td>-0.597407</td>\n",
       "      <td>-1.320338</td>\n",
       "      <td>-0.434646</td>\n",
       "    </tr>\n",
       "  </tbody>\n",
       "</table>\n",
       "</div>"
      ],
      "text/plain": [
       "        Age  Agency_Code      Type  Commision   Channel  Duration     Sales  \\\n",
       "0  0.947162    -1.314358 -1.256796  -0.542807  0.124788 -0.470051 -0.816433   \n",
       "1 -0.199870     0.697928  0.795674  -0.570282  0.124788 -0.268605 -0.569127   \n",
       "2  0.086888    -0.308215  0.795674  -0.337133  0.124788 -0.499894 -0.711940   \n",
       "3 -0.199870     0.697928  0.795674  -0.570282  0.124788 -0.492433 -0.484288   \n",
       "4 -0.486629     1.704071 -1.256796  -0.323003  0.124788 -0.126846 -0.597407   \n",
       "\n",
       "   Product Name  Destination  \n",
       "0      0.268835    -0.434646  \n",
       "1      0.268835    -0.434646  \n",
       "2      0.268835     1.303937  \n",
       "3     -0.525751    -0.434646  \n",
       "4     -1.320338    -0.434646  "
      ]
     },
     "execution_count": 41,
     "metadata": {},
     "output_type": "execute_result"
    }
   ],
   "source": [
    "from scipy.stats import zscore\n",
    "df2_scaled=df2.apply(zscore)\n",
    "df2_scaled.head()"
   ]
  },
  {
   "cell_type": "code",
   "execution_count": 42,
   "id": "5f8ca303",
   "metadata": {},
   "outputs": [
    {
     "data": {
      "image/png": "[encoded data removed]",
      "text/plain": [
       "<Figure size 432x288 with 1 Axes>"
      ]
     },
     "metadata": {
      "needs_background": "light"
     },
     "output_type": "display_data"
    }
   ],
   "source": [
    "plt.plot(df2_scaled)\n",
    "plt.show()"
   ]
  },
  {
   "cell_type": "code",
   "execution_count": 43,
   "id": "7756687b",
   "metadata": {},
   "outputs": [
    {
     "name": "stdout",
     "output_type": "stream",
     "text": [
      "X_train (2100, 9)\n",
      "X_test (900, 9)\n",
      "train_labels (2100,)\n",
      "test_labels (900,)\n"
     ]
    }
   ],
   "source": [
    "print('X_train',X_train.shape)\n",
    "print('X_test',X_test.shape)\n",
    "print('train_labels',train_labels.shape)\n",
    "print('test_labels',test_labels.shape)"
   ]
  },
  {
   "cell_type": "markdown",
   "id": "c5f773b8",
   "metadata": {},
   "source": [
    "Descision Tree Classifier"
   ]
  },
  {
   "cell_type": "code",
   "execution_count": null,
   "id": "d9a0fd95",
   "metadata": {},
   "outputs": [],
   "source": [
    "from sklearn.tree import DecisionTreeClassifier"
   ]
  },
  {
   "cell_type": "code",
   "execution_count": 45,
   "id": "92817d92",
   "metadata": {},
   "outputs": [],
   "source": [
    "from sklearn.model_selection import GridSearchCV"
   ]
  },
  {
   "cell_type": "code",
   "execution_count": 46,
   "id": "57a848f5",
   "metadata": {},
   "outputs": [],
   "source": [
    "param_grid_dtcl = {\n",
    "    'criterion': ['gini'],\n",
    "    'max_depth': [10,20,30,50],\n",
    "    'min_samples_leaf': [50,100,150], \n",
    "    'min_samples_split': [150,300,450],\n",
    "}\n",
    "\n",
    "dtcl = DecisionTreeClassifier(random_state=1)\n",
    "\n",
    "grid_search_dtcl = GridSearchCV(estimator = dtcl, param_grid = param_grid_dtcl, cv = 10)"
   ]
  },
  {
   "cell_type": "code",
   "execution_count": 47,
   "id": "da097cae",
   "metadata": {},
   "outputs": [
    {
     "name": "stdout",
     "output_type": "stream",
     "text": [
      "{'criterion': 'gini', 'max_depth': 10, 'min_samples_leaf': 50, 'min_samples_split': 150}\n"
     ]
    },
    {
     "data": {
      "text/plain": [
       "DecisionTreeClassifier(max_depth=10, min_samples_leaf=50, min_samples_split=150,\n",
       "                       random_state=1)"
      ]
     },
     "execution_count": 47,
     "metadata": {},
     "output_type": "execute_result"
    }
   ],
   "source": [
    "grid_search_dtcl.fit(X_train, train_labels)\n",
    "print(grid_search_dtcl.best_params_)\n",
    "best_grid_dtcl = grid_search_dtcl.best_estimator_\n",
    "best_grid_dtcl"
   ]
  },
  {
   "cell_type": "code",
   "execution_count": 49,
   "id": "225ab980",
   "metadata": {},
   "outputs": [],
   "source": [
    "param_grid_dtcl = {\n",
    "    'criterion': ['gini'],\n",
    "    'max_depth': [3, 5, 7, 10,12],\n",
    "    'min_samples_leaf': [20,30,40,50,60], \n",
    "    'min_samples_split': [100, 120, 140, 150],\n",
    "}\n",
    "\n",
    "dtcl = DecisionTreeClassifier(random_state=1)\n",
    "\n",
    "grid_search_dtcl = GridSearchCV(estimator = dtcl, param_grid = param_grid_dtcl, cv = 10)"
   ]
  },
  {
   "cell_type": "code",
   "execution_count": 50,
   "id": "e947a736",
   "metadata": {},
   "outputs": [
    {
     "name": "stdout",
     "output_type": "stream",
     "text": [
      "{'criterion': 'gini', 'max_depth': 7, 'min_samples_leaf': 20, 'min_samples_split': 140}\n"
     ]
    },
    {
     "data": {
      "text/plain": [
       "DecisionTreeClassifier(max_depth=7, min_samples_leaf=20, min_samples_split=140,\n",
       "                       random_state=1)"
      ]
     },
     "execution_count": 50,
     "metadata": {},
     "output_type": "execute_result"
    }
   ],
   "source": [
    "grid_search_dtcl.fit(X_train, train_labels)\n",
    "print(grid_search_dtcl.best_params_)\n",
    "best_grid_dtcl = grid_search_dtcl.best_estimator_\n",
    "best_grid_dtcl"
   ]
  },
  {
   "cell_type": "code",
   "execution_count": 51,
   "id": "d7cf298d",
   "metadata": {},
   "outputs": [],
   "source": [
    "param_grid_dtcl = {\n",
    "    'criterion': ['gini'],\n",
    "    'max_depth': [3, 5, 7, 10,12],\n",
    "    'min_samples_leaf': [10, 15, 20, 25], \n",
    "    'min_samples_split': [130, 135, 140, 145, 150],\n",
    "}\n",
    "\n",
    "dtcl = DecisionTreeClassifier(random_state=1)\n",
    "\n",
    "grid_search_dtcl = GridSearchCV(estimator = dtcl, param_grid = param_grid_dtcl, cv = 10)"
   ]
  },
  {
   "cell_type": "code",
   "execution_count": 52,
   "id": "a6cabe36",
   "metadata": {},
   "outputs": [
    {
     "name": "stdout",
     "output_type": "stream",
     "text": [
      "{'criterion': 'gini', 'max_depth': 7, 'min_samples_leaf': 20, 'min_samples_split': 140}\n"
     ]
    },
    {
     "data": {
      "text/plain": [
       "DecisionTreeClassifier(max_depth=7, min_samples_leaf=20, min_samples_split=140,\n",
       "                       random_state=1)"
      ]
     },
     "execution_count": 52,
     "metadata": {},
     "output_type": "execute_result"
    }
   ],
   "source": [
    "grid_search_dtcl.fit(X_train, train_labels)\n",
    "print(grid_search_dtcl.best_params_)\n",
    "best_grid_dtcl = grid_search_dtcl.best_estimator_\n",
    "best_grid_dtcl"
   ]
  },
  {
   "cell_type": "code",
   "execution_count": 53,
   "id": "e87e3929",
   "metadata": {},
   "outputs": [],
   "source": [
    "param_grid_dtcl = {\n",
    "    'criterion': ['gini'],\n",
    "    'max_depth': [3, 5, 7, 10,12],\n",
    "    'min_samples_leaf': [18, 19, 20, 21, 22], \n",
    "    'min_samples_split': [138, 139, 140, 141, 142],\n",
    "}\n",
    "\n",
    "dtcl = DecisionTreeClassifier(random_state=1)\n",
    "\n",
    "grid_search_dtcl = GridSearchCV(estimator = dtcl, param_grid = param_grid_dtcl, cv = 10)"
   ]
  },
  {
   "cell_type": "code",
   "execution_count": 54,
   "id": "361e2fe6",
   "metadata": {},
   "outputs": [
    {
     "name": "stdout",
     "output_type": "stream",
     "text": [
      "{'criterion': 'gini', 'max_depth': 7, 'min_samples_leaf': 19, 'min_samples_split': 139}\n"
     ]
    },
    {
     "data": {
      "text/plain": [
       "DecisionTreeClassifier(max_depth=7, min_samples_leaf=19, min_samples_split=139,\n",
       "                       random_state=1)"
      ]
     },
     "execution_count": 54,
     "metadata": {},
     "output_type": "execute_result"
    }
   ],
   "source": [
    "grid_search_dtcl.fit(X_train, train_labels)\n",
    "print(grid_search_dtcl.best_params_)\n",
    "best_grid_dtcl = grid_search_dtcl.best_estimator_\n",
    "best_grid_dtcl"
   ]
  },
  {
   "cell_type": "code",
   "execution_count": 56,
   "id": "f7a7426c",
   "metadata": {},
   "outputs": [],
   "source": [
    "from sklearn import tree"
   ]
  },
  {
   "cell_type": "code",
   "execution_count": 58,
   "id": "75ecc9c2",
   "metadata": {},
   "outputs": [],
   "source": [
    "train_char_label = ['No', 'Yes']\n",
    "tree_regularized = open('tree_regularized.dot','w')\n",
    "dot_data = tree.export_graphviz(best_grid_dtcl, out_file= tree_regularized ,\n",
    "                                feature_names = list(X_train),\n",
    "                                class_names = list(train_char_label))\n",
    "\n",
    "tree_regularized.close()\n",
    "dot_data"
   ]
  },
  {
   "cell_type": "code",
   "execution_count": 59,
   "id": "2a4dd8bf",
   "metadata": {},
   "outputs": [
    {
     "name": "stdout",
     "output_type": "stream",
     "text": [
      "                   Imp\n",
      "Agency_Code   0.561444\n",
      "Sales         0.247335\n",
      "Product Name  0.071714\n",
      "Age           0.046122\n",
      "Duration      0.045311\n",
      "Commision     0.021128\n",
      "Type          0.006946\n",
      "Channel       0.000000\n",
      "Destination   0.000000\n"
     ]
    }
   ],
   "source": [
    "print (pd.DataFrame(best_grid_dtcl.feature_importances_, columns = [\"Imp\"], \n",
    "                    index = X_train.columns).sort_values('Imp',ascending=False))"
   ]
  },
  {
   "cell_type": "code",
   "execution_count": 60,
   "id": "2ad6fac3",
   "metadata": {},
   "outputs": [],
   "source": [
    "ytrain_predict_dtcl = best_grid_dtcl.predict(X_train)\n",
    "ytest_predict_dtcl = best_grid_dtcl.predict(X_test)"
   ]
  },
  {
   "cell_type": "code",
   "execution_count": 61,
   "id": "c1dadb6f",
   "metadata": {},
   "outputs": [
    {
     "data": {
      "text/html": [
       "<div>\n",
       "<style scoped>\n",
       "    .dataframe tbody tr th:only-of-type {\n",
       "        vertical-align: middle;\n",
       "    }\n",
       "\n",
       "    .dataframe tbody tr th {\n",
       "        vertical-align: top;\n",
       "    }\n",
       "\n",
       "    .dataframe thead th {\n",
       "        text-align: right;\n",
       "    }\n",
       "</style>\n",
       "<table border=\"1\" class=\"dataframe\">\n",
       "  <thead>\n",
       "    <tr style=\"text-align: right;\">\n",
       "      <th></th>\n",
       "      <th>0</th>\n",
       "      <th>1</th>\n",
       "    </tr>\n",
       "  </thead>\n",
       "  <tbody>\n",
       "    <tr>\n",
       "      <th>0</th>\n",
       "      <td>0.983333</td>\n",
       "      <td>0.016667</td>\n",
       "    </tr>\n",
       "    <tr>\n",
       "      <th>1</th>\n",
       "      <td>0.555556</td>\n",
       "      <td>0.444444</td>\n",
       "    </tr>\n",
       "    <tr>\n",
       "      <th>2</th>\n",
       "      <td>0.292035</td>\n",
       "      <td>0.707965</td>\n",
       "    </tr>\n",
       "    <tr>\n",
       "      <th>3</th>\n",
       "      <td>0.196078</td>\n",
       "      <td>0.803922</td>\n",
       "    </tr>\n",
       "    <tr>\n",
       "      <th>4</th>\n",
       "      <td>0.909774</td>\n",
       "      <td>0.090226</td>\n",
       "    </tr>\n",
       "  </tbody>\n",
       "</table>\n",
       "</div>"
      ],
      "text/plain": [
       "          0         1\n",
       "0  0.983333  0.016667\n",
       "1  0.555556  0.444444\n",
       "2  0.292035  0.707965\n",
       "3  0.196078  0.803922\n",
       "4  0.909774  0.090226"
      ]
     },
     "execution_count": 61,
     "metadata": {},
     "output_type": "execute_result"
    }
   ],
   "source": [
    "ytest_predict_dtcl\n",
    "ytest_predict_prob_dtcl=best_grid_dtcl.predict_proba(X_test)\n",
    "ytest_predict_prob_dtcl\n",
    "pd.DataFrame(ytest_predict_prob_dtcl).head()"
   ]
  },
  {
   "cell_type": "markdown",
   "id": "c11a4f55",
   "metadata": {},
   "source": [
    "Random Forest Classifier"
   ]
  },
  {
   "cell_type": "code",
   "execution_count": 62,
   "id": "32afdfa3",
   "metadata": {},
   "outputs": [],
   "source": [
    "from sklearn.ensemble import RandomForestClassifier"
   ]
  },
  {
   "cell_type": "code",
   "execution_count": 65,
   "id": "09aad610",
   "metadata": {},
   "outputs": [],
   "source": [
    "param_grid_rfcl = { 'max_depth': [5,10,15],\n",
    "                   'max_features': [4,5,6,7],\n",
    "                   'min_samples_leaf': [10,50,70],\n",
    "                   'min_samples_split': [30,50,70], \n",
    "                   'n_estimators': [200,250,300]}\n",
    "\n",
    "rfcl = RandomForestClassifier(random_state=1)\n",
    "\n",
    "grid_search_rfcl = GridSearchCV(estimator = rfcl, param_grid = param_grid_rfcl, cv = 5)"
   ]
  },
  {
   "cell_type": "code",
   "execution_count": 69,
   "id": "8c41b126",
   "metadata": {},
   "outputs": [
    {
     "name": "stdout",
     "output_type": "stream",
     "text": [
      "{'max_depth': 15, 'max_features': 6, 'min_samples_leaf': 10, 'min_samples_split': 30, 'n_estimators': 300}\n"
     ]
    },
    {
     "data": {
      "text/plain": [
       "RandomForestClassifier(max_depth=15, max_features=6, min_samples_leaf=10,\n",
       "                       min_samples_split=30, n_estimators=300, random_state=1)"
      ]
     },
     "execution_count": 69,
     "metadata": {},
     "output_type": "execute_result"
    }
   ],
   "source": [
    "grid_search_rfcl.fit(X_train, train_labels) \n",
    "print(grid_search_rfcl.best_params_) \n",
    "best_grid_rfcl = grid_search_rfcl.best_estimator_ \n",
    "best_grid_rfcl"
   ]
  },
  {
   "cell_type": "code",
   "execution_count": 70,
   "id": "b8f9079e",
   "metadata": {},
   "outputs": [],
   "source": [
    "param_grid_rfcl = { 'max_depth': [14, 15, 20],\n",
    "                   'max_features': [4,5,6,7],\n",
    "                   'min_samples_leaf': [5, 10, 15],\n",
    "                   'min_samples_split': [20, 30, 35], \n",
    "                   'n_estimators': [290, 300, 350]}\n",
    "\n",
    "rfcl = RandomForestClassifier(random_state=1)\n",
    "\n",
    "grid_search_rfcl = GridSearchCV(estimator = rfcl, param_grid = param_grid_rfcl, cv = 5)"
   ]
  },
  {
   "cell_type": "code",
   "execution_count": 71,
   "id": "f24c019a",
   "metadata": {},
   "outputs": [
    {
     "name": "stdout",
     "output_type": "stream",
     "text": [
      "{'max_depth': 14, 'max_features': 4, 'min_samples_leaf': 5, 'min_samples_split': 35, 'n_estimators': 300}\n"
     ]
    },
    {
     "data": {
      "text/plain": [
       "RandomForestClassifier(max_depth=14, max_features=4, min_samples_leaf=5,\n",
       "                       min_samples_split=35, n_estimators=300, random_state=1)"
      ]
     },
     "execution_count": 71,
     "metadata": {},
     "output_type": "execute_result"
    }
   ],
   "source": [
    "grid_search_rfcl.fit(X_train, train_labels) \n",
    "print(grid_search_rfcl.best_params_) \n",
    "best_grid_rfcl = grid_search_rfcl.best_estimator_ \n",
    "best_grid_rfcl"
   ]
  },
  {
   "cell_type": "code",
   "execution_count": 72,
   "id": "716bda5b",
   "metadata": {},
   "outputs": [],
   "source": [
    "param_grid_rfcl = { 'max_depth': [10, 12, 14, 15],\n",
    "                   'max_features': [2,3,4,5,6],\n",
    "                   'min_samples_leaf': [3, 5, 10],\n",
    "                   'min_samples_split': [25, 30, 35], \n",
    "                   'n_estimators': [290, 300, 320]}\n",
    "\n",
    "rfcl = RandomForestClassifier(random_state=1)\n",
    "\n",
    "grid_search_rfcl = GridSearchCV(estimator = rfcl, param_grid = param_grid_rfcl, cv = 5)"
   ]
  },
  {
   "cell_type": "code",
   "execution_count": 83,
   "id": "57f3a33f",
   "metadata": {},
   "outputs": [
    {
     "name": "stdout",
     "output_type": "stream",
     "text": [
      "{'max_depth': 10, 'max_features': 3, 'min_samples_leaf': 3, 'min_samples_split': 25, 'n_estimators': 300}\n"
     ]
    },
    {
     "data": {
      "text/plain": [
       "RandomForestClassifier(max_depth=10, max_features=3, min_samples_leaf=3,\n",
       "                       min_samples_split=25, n_estimators=300, random_state=1)"
      ]
     },
     "execution_count": 83,
     "metadata": {},
     "output_type": "execute_result"
    }
   ],
   "source": [
    "grid_search_rfcl.fit(X_train, train_labels) \n",
    "print(grid_search_rfcl.best_params_) \n",
    "best_grid_rfcl = grid_search_rfcl.best_estimator_ \n",
    "best_grid_rfcl"
   ]
  },
  {
   "cell_type": "code",
   "execution_count": 160,
   "id": "21311611",
   "metadata": {},
   "outputs": [],
   "source": [
    "param_grid_rfcl = { 'max_depth': [5, 10, 12],\n",
    "                   'max_features': [2,3,4],\n",
    "                   'min_samples_leaf': [3, 5, 10],\n",
    "                   'min_samples_split': [20, 25, 30, 35], \n",
    "                   'n_estimators': [290, 300, 320]}\n",
    "\n",
    "rfcl = RandomForestClassifier(random_state=1)\n",
    "\n",
    "grid_search_rfcl = GridSearchCV(estimator = rfcl, param_grid = param_grid_rfcl, cv = 5)"
   ]
  },
  {
   "cell_type": "code",
   "execution_count": 161,
   "id": "628d2838",
   "metadata": {},
   "outputs": [
    {
     "name": "stdout",
     "output_type": "stream",
     "text": [
      "{'max_depth': 10, 'max_features': 3, 'min_samples_leaf': 3, 'min_samples_split': 25, 'n_estimators': 300}\n"
     ]
    },
    {
     "data": {
      "text/plain": [
       "RandomForestClassifier(max_depth=10, max_features=3, min_samples_leaf=3,\n",
       "                       min_samples_split=25, n_estimators=300, random_state=1)"
      ]
     },
     "execution_count": 161,
     "metadata": {},
     "output_type": "execute_result"
    }
   ],
   "source": [
    "grid_search_rfcl.fit(X_train, train_labels) \n",
    "print(grid_search_rfcl.best_params_) \n",
    "best_grid_rfcl = grid_search_rfcl.best_estimator_ \n",
    "best_grid_rfcl"
   ]
  },
  {
   "cell_type": "code",
   "execution_count": 165,
   "id": "09d49beb",
   "metadata": {},
   "outputs": [
    {
     "name": "stdout",
     "output_type": "stream",
     "text": [
      "                   Imp\n",
      "Agency_Code   0.214320\n",
      "Sales         0.182379\n",
      "Product Name  0.177333\n",
      "Commision     0.142495\n",
      "Duration      0.121317\n",
      "Age           0.085214\n",
      "Type          0.056292\n",
      "Destination   0.015263\n",
      "Channel       0.005386\n"
     ]
    }
   ],
   "source": [
    "print (pd.DataFrame(best_grid_rfcl.feature_importances_, \n",
    "                    columns = [\"Imp\"], \n",
    "                    index = X_train.columns).sort_values('Imp',ascending=False))"
   ]
  },
  {
   "cell_type": "code",
   "execution_count": 162,
   "id": "95d83759",
   "metadata": {},
   "outputs": [],
   "source": [
    "ytrain_predict_rfcl = best_grid_rfcl.predict(X_train)\n",
    "ytest_predict_rfcl = best_grid_rfcl.predict(X_test)"
   ]
  },
  {
   "cell_type": "code",
   "execution_count": 163,
   "id": "bb5a62e9",
   "metadata": {},
   "outputs": [
    {
     "data": {
      "text/html": [
       "<div>\n",
       "<style scoped>\n",
       "    .dataframe tbody tr th:only-of-type {\n",
       "        vertical-align: middle;\n",
       "    }\n",
       "\n",
       "    .dataframe tbody tr th {\n",
       "        vertical-align: top;\n",
       "    }\n",
       "\n",
       "    .dataframe thead th {\n",
       "        text-align: right;\n",
       "    }\n",
       "</style>\n",
       "<table border=\"1\" class=\"dataframe\">\n",
       "  <thead>\n",
       "    <tr style=\"text-align: right;\">\n",
       "      <th></th>\n",
       "      <th>0</th>\n",
       "      <th>1</th>\n",
       "    </tr>\n",
       "  </thead>\n",
       "  <tbody>\n",
       "    <tr>\n",
       "      <th>0</th>\n",
       "      <td>0.773651</td>\n",
       "      <td>0.226349</td>\n",
       "    </tr>\n",
       "    <tr>\n",
       "      <th>1</th>\n",
       "      <td>0.463649</td>\n",
       "      <td>0.536351</td>\n",
       "    </tr>\n",
       "    <tr>\n",
       "      <th>2</th>\n",
       "      <td>0.416801</td>\n",
       "      <td>0.583199</td>\n",
       "    </tr>\n",
       "    <tr>\n",
       "      <th>3</th>\n",
       "      <td>0.252048</td>\n",
       "      <td>0.747952</td>\n",
       "    </tr>\n",
       "    <tr>\n",
       "      <th>4</th>\n",
       "      <td>0.959486</td>\n",
       "      <td>0.040514</td>\n",
       "    </tr>\n",
       "  </tbody>\n",
       "</table>\n",
       "</div>"
      ],
      "text/plain": [
       "          0         1\n",
       "0  0.773651  0.226349\n",
       "1  0.463649  0.536351\n",
       "2  0.416801  0.583199\n",
       "3  0.252048  0.747952\n",
       "4  0.959486  0.040514"
      ]
     },
     "execution_count": 163,
     "metadata": {},
     "output_type": "execute_result"
    }
   ],
   "source": [
    "ytest_predict_rfcl\n",
    "ytest_predict_prob_rfcl=best_grid_rfcl.predict_proba(X_test)\n",
    "ytest_predict_prob_rfcl\n",
    "pd.DataFrame(ytest_predict_prob_rfcl).head()"
   ]
  },
  {
   "cell_type": "markdown",
   "id": "b54b2d9c",
   "metadata": {},
   "source": [
    "Artificial Neural Network"
   ]
  },
  {
   "cell_type": "code",
   "execution_count": 176,
   "id": "5914f60b",
   "metadata": {},
   "outputs": [],
   "source": [
    "from sklearn.neural_network import MLPClassifier"
   ]
  },
  {
   "cell_type": "code",
   "execution_count": 187,
   "id": "d2bd3503",
   "metadata": {},
   "outputs": [],
   "source": [
    "param_grid_nncl = {\n",
    "    'hidden_layer_sizes': [50,100,200],\n",
    "    'max_iter': [200,300,500],\n",
    "    'solver': ['adam','sgd'],\n",
    "    'tol': [0.1,0.01], \n",
    "}\n",
    "\n",
    "nncl = MLPClassifier(random_state=1)\n",
    "\n",
    "grid_search_nncl = GridSearchCV(estimator = nncl, param_grid = param_grid_nncl, cv = 10)"
   ]
  },
  {
   "cell_type": "code",
   "execution_count": 188,
   "id": "e9a88dd4",
   "metadata": {},
   "outputs": [
    {
     "name": "stdout",
     "output_type": "stream",
     "text": [
      "{'hidden_layer_sizes': 100, 'max_iter': 200, 'solver': 'adam', 'tol': 0.01}\n"
     ]
    },
    {
     "data": {
      "text/plain": [
       "MLPClassifier(hidden_layer_sizes=100, random_state=1, tol=0.01)"
      ]
     },
     "execution_count": 188,
     "metadata": {},
     "output_type": "execute_result"
    }
   ],
   "source": [
    "grid_search_nncl.fit(X_train, train_labels)\n",
    "print(grid_search_nncl.best_params_)\n",
    "best_grid_nncl = grid_search_nncl.best_estimator_\n",
    "best_grid_nncl"
   ]
  },
  {
   "cell_type": "code",
   "execution_count": 193,
   "id": "65e91fae",
   "metadata": {},
   "outputs": [],
   "source": [
    "param_grid_nncl = {\n",
    "    'hidden_layer_sizes': [50,100,200],\n",
    "    'max_iter': [50,100,150,200],\n",
    "    'solver': ['adam'],\n",
    "    'tol': [0.01], \n",
    "}\n",
    "\n",
    "nncl = MLPClassifier(random_state=1)\n",
    "\n",
    "grid_search_nncl = GridSearchCV(estimator = nncl, param_grid = param_grid_nncl, cv = 10)"
   ]
  },
  {
   "cell_type": "code",
   "execution_count": 194,
   "id": "a9682085",
   "metadata": {},
   "outputs": [
    {
     "name": "stdout",
     "output_type": "stream",
     "text": [
      "{'hidden_layer_sizes': 100, 'max_iter': 50, 'solver': 'adam', 'tol': 0.01}\n"
     ]
    },
    {
     "data": {
      "text/plain": [
       "MLPClassifier(hidden_layer_sizes=100, max_iter=50, random_state=1, tol=0.01)"
      ]
     },
     "execution_count": 194,
     "metadata": {},
     "output_type": "execute_result"
    }
   ],
   "source": [
    "grid_search_nncl.fit(X_train, train_labels)\n",
    "print(grid_search_nncl.best_params_)\n",
    "best_grid_nncl = grid_search_nncl.best_estimator_\n",
    "best_grid_nncl"
   ]
  },
  {
   "cell_type": "code",
   "execution_count": 197,
   "id": "191ad180",
   "metadata": {},
   "outputs": [],
   "source": [
    "param_grid_nncl = {\n",
    "    'hidden_layer_sizes': [50,100,200],\n",
    "    'max_iter': [40,50,60],\n",
    "    'solver': ['adam'],\n",
    "    'tol': [0.01], \n",
    "}\n",
    "\n",
    "nncl = MLPClassifier(random_state=1)\n",
    "\n",
    "grid_search_nncl = GridSearchCV(estimator = nncl, param_grid = param_grid_nncl, cv = 10)"
   ]
  },
  {
   "cell_type": "code",
   "execution_count": 198,
   "id": "ec7c1392",
   "metadata": {},
   "outputs": [
    {
     "name": "stdout",
     "output_type": "stream",
     "text": [
      "{'hidden_layer_sizes': 100, 'max_iter': 40, 'solver': 'adam', 'tol': 0.01}\n"
     ]
    },
    {
     "data": {
      "text/plain": [
       "MLPClassifier(hidden_layer_sizes=100, max_iter=40, random_state=1, tol=0.01)"
      ]
     },
     "execution_count": 198,
     "metadata": {},
     "output_type": "execute_result"
    }
   ],
   "source": [
    "grid_search_nncl.fit(X_train, train_labels)\n",
    "print(grid_search_nncl.best_params_)\n",
    "best_grid_nncl = grid_search_nncl.best_estimator_\n",
    "best_grid_nncl"
   ]
  },
  {
   "cell_type": "code",
   "execution_count": 203,
   "id": "cabbdb8c",
   "metadata": {},
   "outputs": [],
   "source": [
    "param_grid_nncl = {\n",
    "    'hidden_layer_sizes': [50,100,200],\n",
    "    'max_iter': [40,50,60,70],\n",
    "    'solver': ['adam'],\n",
    "    'tol': [0.01], \n",
    "}\n",
    "\n",
    "nncl = MLPClassifier(random_state=1)\n",
    "\n",
    "grid_search_nncl = GridSearchCV(estimator = nncl, param_grid = param_grid_nncl, cv = 10)"
   ]
  },
  {
   "cell_type": "code",
   "execution_count": 204,
   "id": "2474eda3",
   "metadata": {},
   "outputs": [
    {
     "name": "stdout",
     "output_type": "stream",
     "text": [
      "{'hidden_layer_sizes': 100, 'max_iter': 40, 'solver': 'adam', 'tol': 0.01}\n"
     ]
    },
    {
     "data": {
      "text/plain": [
       "MLPClassifier(hidden_layer_sizes=100, max_iter=40, random_state=1, tol=0.01)"
      ]
     },
     "execution_count": 204,
     "metadata": {},
     "output_type": "execute_result"
    }
   ],
   "source": [
    "grid_search_nncl.fit(X_train, train_labels)\n",
    "print(grid_search_nncl.best_params_)\n",
    "best_grid_nncl = grid_search_nncl.best_estimator_\n",
    "best_grid_nncl"
   ]
  },
  {
   "cell_type": "code",
   "execution_count": 206,
   "id": "cad5fdfc",
   "metadata": {},
   "outputs": [],
   "source": [
    "ytrain_predict_nncl = best_grid_nncl.predict(X_train)\n",
    "ytest_predict_nncl = best_grid_nncl.predict(X_test)"
   ]
  },
  {
   "cell_type": "code",
   "execution_count": 207,
   "id": "47cca28f",
   "metadata": {},
   "outputs": [
    {
     "data": {
      "text/html": [
       "<div>\n",
       "<style scoped>\n",
       "    .dataframe tbody tr th:only-of-type {\n",
       "        vertical-align: middle;\n",
       "    }\n",
       "\n",
       "    .dataframe tbody tr th {\n",
       "        vertical-align: top;\n",
       "    }\n",
       "\n",
       "    .dataframe thead th {\n",
       "        text-align: right;\n",
       "    }\n",
       "</style>\n",
       "<table border=\"1\" class=\"dataframe\">\n",
       "  <thead>\n",
       "    <tr style=\"text-align: right;\">\n",
       "      <th></th>\n",
       "      <th>0</th>\n",
       "      <th>1</th>\n",
       "    </tr>\n",
       "  </thead>\n",
       "  <tbody>\n",
       "    <tr>\n",
       "      <th>0</th>\n",
       "      <td>0.617672</td>\n",
       "      <td>0.382328</td>\n",
       "    </tr>\n",
       "    <tr>\n",
       "      <th>1</th>\n",
       "      <td>0.690120</td>\n",
       "      <td>0.309880</td>\n",
       "    </tr>\n",
       "    <tr>\n",
       "      <th>2</th>\n",
       "      <td>0.538041</td>\n",
       "      <td>0.461959</td>\n",
       "    </tr>\n",
       "    <tr>\n",
       "      <th>3</th>\n",
       "      <td>0.237722</td>\n",
       "      <td>0.762278</td>\n",
       "    </tr>\n",
       "    <tr>\n",
       "      <th>4</th>\n",
       "      <td>0.817804</td>\n",
       "      <td>0.182196</td>\n",
       "    </tr>\n",
       "  </tbody>\n",
       "</table>\n",
       "</div>"
      ],
      "text/plain": [
       "          0         1\n",
       "0  0.617672  0.382328\n",
       "1  0.690120  0.309880\n",
       "2  0.538041  0.461959\n",
       "3  0.237722  0.762278\n",
       "4  0.817804  0.182196"
      ]
     },
     "execution_count": 207,
     "metadata": {},
     "output_type": "execute_result"
    }
   ],
   "source": [
    "ytest_predict_nncl\n",
    "ytest_predict_prob_nncl=best_grid_nncl.predict_proba(X_test)\n",
    "ytest_predict_prob_nncl\n",
    "pd.DataFrame(ytest_predict_prob_nncl).head()"
   ]
  },
  {
   "cell_type": "markdown",
   "id": "ac4d55a6",
   "metadata": {},
   "source": [
    "2.3 Performance Metrics: Comment and Check the performance of Predictions on Train and Test sets using Accuracy, Confusion Matrix, Plot ROC curve and get ROC_AUC score, classification reports for each model. \n"
   ]
  },
  {
   "cell_type": "code",
   "execution_count": 213,
   "id": "b18d0b0a",
   "metadata": {},
   "outputs": [],
   "source": [
    "from sklearn.metrics import roc_auc_score,roc_curve,classification_report,confusion_matrix"
   ]
  },
  {
   "cell_type": "markdown",
   "id": "a147267e",
   "metadata": {},
   "source": [
    "Decision Tree Classifier"
   ]
  },
  {
   "cell_type": "markdown",
   "id": "ca5c8d54",
   "metadata": {},
   "source": [
    "AUC and ROC for the training data"
   ]
  },
  {
   "cell_type": "code",
   "execution_count": 262,
   "id": "d635527d",
   "metadata": {},
   "outputs": [
    {
     "name": "stdout",
     "output_type": "stream",
     "text": [
      "AUC: 0.845\n"
     ]
    },
    {
     "data": {
      "image/png": "[encoded data removed]",
      "text/plain": [
       "<Figure size 432x288 with 1 Axes>"
      ]
     },
     "metadata": {
      "needs_background": "light"
     },
     "output_type": "display_data"
    }
   ],
   "source": [
    "probs_dtcl = best_grid_dtcl.predict_proba(X_train)\n",
    "probs_dtcl = probs_dtcl[:, 1]\n",
    "dtcl_train_auc = roc_auc_score(train_labels, probs_dtcl)\n",
    "print('AUC: %.3f' % dtcl_train_auc)\n",
    "dtcl_train_fpr, dtcl_train_tpr, dtcl_train_thresholds = roc_curve(train_labels, probs_dtcl)\n",
    "plt.title('Decision Tree Classifier ROC curve - Training Data')\n",
    "plt.plot([0, 1], [0, 1], linestyle='--')\n",
    "plt.plot(dtcl_train_fpr, dtcl_train_tpr, marker='.')\n",
    "plt.show()"
   ]
  },
  {
   "cell_type": "markdown",
   "id": "bbee2e60",
   "metadata": {},
   "source": [
    "AUC and ROC for the test data"
   ]
  },
  {
   "cell_type": "code",
   "execution_count": 263,
   "id": "6748a14e",
   "metadata": {},
   "outputs": [
    {
     "name": "stdout",
     "output_type": "stream",
     "text": [
      "AUC: 0.796\n"
     ]
    },
    {
     "data": {
      "image/png": "[encoded data removed]",
      "text/plain": [
       "<Figure size 432x288 with 1 Axes>"
      ]
     },
     "metadata": {
      "needs_background": "light"
     },
     "output_type": "display_data"
    }
   ],
   "source": [
    "probs_dtcl = best_grid_dtcl.predict_proba(X_test)\n",
    "probs_dtcl = probs_dtcl[:, 1]\n",
    "dtcl_test_auc = roc_auc_score(test_labels, probs_dtcl)\n",
    "print('AUC: %.3f' % dtcl_test_auc)\n",
    "dtcl_test_fpr, dtcl_test_tpr, dtcl_test_thresholds = roc_curve(test_labels, probs_dtcl)\n",
    "plt.title('Decision Tree Classifier ROC curve - Test Data')\n",
    "plt.plot([0, 1], [0, 1], linestyle='--')\n",
    "plt.plot(dtcl_test_fpr, dtcl_test_tpr, marker='.')\n",
    "plt.show()"
   ]
  },
  {
   "cell_type": "markdown",
   "id": "2a5c7465",
   "metadata": {},
   "source": [
    "Confusion Matrix and Classification Report for the training data"
   ]
  },
  {
   "cell_type": "code",
   "execution_count": 214,
   "id": "f39001a1",
   "metadata": {},
   "outputs": [
    {
     "data": {
      "text/plain": [
       "array([[1322,  149],\n",
       "       [ 271,  358]], dtype=int64)"
      ]
     },
     "execution_count": 214,
     "metadata": {},
     "output_type": "execute_result"
    }
   ],
   "source": [
    "confusion_matrix(train_labels, ytrain_predict_dtcl)"
   ]
  },
  {
   "cell_type": "code",
   "execution_count": 215,
   "id": "0709f3b7",
   "metadata": {},
   "outputs": [
    {
     "data": {
      "text/plain": [
       "0.8"
      ]
     },
     "execution_count": 215,
     "metadata": {},
     "output_type": "execute_result"
    }
   ],
   "source": [
    "dtcl_train_acc=best_grid_dtcl.score(X_train,train_labels) \n",
    "dtcl_train_acc"
   ]
  },
  {
   "cell_type": "code",
   "execution_count": 216,
   "id": "f022423f",
   "metadata": {},
   "outputs": [
    {
     "name": "stdout",
     "output_type": "stream",
     "text": [
      "              precision    recall  f1-score   support\n",
      "\n",
      "           0       0.83      0.90      0.86      1471\n",
      "           1       0.71      0.57      0.63       629\n",
      "\n",
      "    accuracy                           0.80      2100\n",
      "   macro avg       0.77      0.73      0.75      2100\n",
      "weighted avg       0.79      0.80      0.79      2100\n",
      "\n"
     ]
    }
   ],
   "source": [
    "print(classification_report(train_labels, ytrain_predict_dtcl))"
   ]
  },
  {
   "cell_type": "markdown",
   "id": "106e312a",
   "metadata": {},
   "source": [
    "Confusion Matrix and Classification Report for the test data"
   ]
  },
  {
   "cell_type": "code",
   "execution_count": 217,
   "id": "40db3ff3",
   "metadata": {},
   "outputs": [
    {
     "data": {
      "text/plain": [
       "array([[544,  61],\n",
       "       [168, 127]], dtype=int64)"
      ]
     },
     "execution_count": 217,
     "metadata": {},
     "output_type": "execute_result"
    }
   ],
   "source": [
    "confusion_matrix(test_labels, ytest_predict_dtcl)"
   ]
  },
  {
   "cell_type": "code",
   "execution_count": 218,
   "id": "0a564c5a",
   "metadata": {},
   "outputs": [
    {
     "data": {
      "text/plain": [
       "0.7455555555555555"
      ]
     },
     "execution_count": 218,
     "metadata": {},
     "output_type": "execute_result"
    }
   ],
   "source": [
    "dtcl_test_acc=best_grid_dtcl.score(X_test,test_labels)\n",
    "dtcl_test_acc"
   ]
  },
  {
   "cell_type": "code",
   "execution_count": 219,
   "id": "daa18c3f",
   "metadata": {},
   "outputs": [
    {
     "name": "stdout",
     "output_type": "stream",
     "text": [
      "              precision    recall  f1-score   support\n",
      "\n",
      "           0       0.76      0.90      0.83       605\n",
      "           1       0.68      0.43      0.53       295\n",
      "\n",
      "    accuracy                           0.75       900\n",
      "   macro avg       0.72      0.66      0.68       900\n",
      "weighted avg       0.74      0.75      0.73       900\n",
      "\n"
     ]
    }
   ],
   "source": [
    "print(classification_report(test_labels, ytest_predict_dtcl))"
   ]
  },
  {
   "cell_type": "markdown",
   "id": "5582de57",
   "metadata": {},
   "source": [
    "Random Forest Classifier"
   ]
  },
  {
   "cell_type": "markdown",
   "id": "b3a2bd45",
   "metadata": {},
   "source": [
    "AUC and ROC for the training data"
   ]
  },
  {
   "cell_type": "code",
   "execution_count": 264,
   "id": "c413c211",
   "metadata": {},
   "outputs": [
    {
     "name": "stdout",
     "output_type": "stream",
     "text": [
      "AUC: 0.896\n"
     ]
    },
    {
     "data": {
      "image/png": "[encoded data removed]",
      "text/plain": [
       "<Figure size 432x288 with 1 Axes>"
      ]
     },
     "metadata": {
      "needs_background": "light"
     },
     "output_type": "display_data"
    }
   ],
   "source": [
    "probs_rfcl = best_grid_rfcl.predict_proba(X_train)\n",
    "probs_rfcl = probs_rfcl[:, 1]\n",
    "rfcl_train_auc = roc_auc_score(train_labels, probs_rfcl)\n",
    "print('AUC: %.3f' % rfcl_train_auc)\n",
    "rfcl_train_fpr, rfcl_train_tpr, rfcl_train_thresholds = roc_curve(train_labels, probs_rfcl)\n",
    "plt.title('Random Forest Classifier ROC curve - Training Data')\n",
    "plt.plot([0, 1], [0, 1], linestyle='--')\n",
    "plt.plot(rfcl_train_fpr, rfcl_train_tpr, marker='.')\n",
    "plt.show()"
   ]
  },
  {
   "cell_type": "markdown",
   "id": "c55daed6",
   "metadata": {},
   "source": [
    "AUC and ROC for the test data"
   ]
  },
  {
   "cell_type": "code",
   "execution_count": 265,
   "id": "3121e6c4",
   "metadata": {},
   "outputs": [
    {
     "name": "stdout",
     "output_type": "stream",
     "text": [
      "AUC: 0.825\n"
     ]
    },
    {
     "data": {
      "image/png": "[encoded data removed]",
      "text/plain": [
       "<Figure size 432x288 with 1 Axes>"
      ]
     },
     "metadata": {
      "needs_background": "light"
     },
     "output_type": "display_data"
    }
   ],
   "source": [
    "probs_rfcl = best_grid_rfcl.predict_proba(X_test)\n",
    "probs_rfcl = probs_rfcl[:, 1]\n",
    "rfcl_test_auc = roc_auc_score(test_labels, probs_rfcl)\n",
    "print('AUC: %.3f' % rfcl_test_auc)\n",
    "rfcl_test_fpr, rfcl_test_tpr, rfcl_test_thresholds = roc_curve(test_labels, probs_rfcl)\n",
    "plt.title('Random Forest Classifier ROC curve - Test Data')\n",
    "plt.plot([0, 1], [0, 1], linestyle='--')\n",
    "plt.plot(rfcl_test_fpr, rfcl_test_tpr, marker='.')\n",
    "plt.show()"
   ]
  },
  {
   "cell_type": "markdown",
   "id": "abd81886",
   "metadata": {},
   "source": [
    "Confusion Matrix and Classification Report for the training data"
   ]
  },
  {
   "cell_type": "code",
   "execution_count": 272,
   "id": "57f77b12",
   "metadata": {},
   "outputs": [
    {
     "data": {
      "text/plain": [
       "array([[1347,  124],\n",
       "       [ 231,  398]], dtype=int64)"
      ]
     },
     "execution_count": 272,
     "metadata": {},
     "output_type": "execute_result"
    }
   ],
   "source": [
    "confusion_matrix(train_labels, ytrain_predict_rfcl)"
   ]
  },
  {
   "cell_type": "code",
   "execution_count": 231,
   "id": "11140a3f",
   "metadata": {},
   "outputs": [
    {
     "data": {
      "text/plain": [
       "0.830952380952381"
      ]
     },
     "execution_count": 231,
     "metadata": {},
     "output_type": "execute_result"
    }
   ],
   "source": [
    "rfcl_train_acc=best_grid_rfcl.score(X_train,train_labels) \n",
    "rfcl_train_acc"
   ]
  },
  {
   "cell_type": "code",
   "execution_count": 232,
   "id": "7bbdc829",
   "metadata": {},
   "outputs": [
    {
     "name": "stdout",
     "output_type": "stream",
     "text": [
      "              precision    recall  f1-score   support\n",
      "\n",
      "           0       0.85      0.92      0.88      1471\n",
      "           1       0.76      0.63      0.69       629\n",
      "\n",
      "    accuracy                           0.83      2100\n",
      "   macro avg       0.81      0.77      0.79      2100\n",
      "weighted avg       0.83      0.83      0.83      2100\n",
      "\n"
     ]
    }
   ],
   "source": [
    "print(classification_report(train_labels, ytrain_predict_rfcl))"
   ]
  },
  {
   "cell_type": "markdown",
   "id": "07226dac",
   "metadata": {},
   "source": [
    "Confusion Matrix and Classification Report for the test data"
   ]
  },
  {
   "cell_type": "code",
   "execution_count": 233,
   "id": "7d495ef4",
   "metadata": {},
   "outputs": [
    {
     "data": {
      "text/plain": [
       "array([[552,  53],\n",
       "       [149, 146]], dtype=int64)"
      ]
     },
     "execution_count": 233,
     "metadata": {},
     "output_type": "execute_result"
    }
   ],
   "source": [
    "confusion_matrix(test_labels, ytest_predict_rfcl)"
   ]
  },
  {
   "cell_type": "code",
   "execution_count": 234,
   "id": "652bf7a7",
   "metadata": {},
   "outputs": [
    {
     "data": {
      "text/plain": [
       "0.7755555555555556"
      ]
     },
     "execution_count": 234,
     "metadata": {},
     "output_type": "execute_result"
    }
   ],
   "source": [
    "rfcl_test_acc=best_grid_rfcl.score(X_test,test_labels)\n",
    "rfcl_test_acc"
   ]
  },
  {
   "cell_type": "code",
   "execution_count": 235,
   "id": "70e5b313",
   "metadata": {},
   "outputs": [
    {
     "name": "stdout",
     "output_type": "stream",
     "text": [
      "              precision    recall  f1-score   support\n",
      "\n",
      "           0       0.79      0.91      0.85       605\n",
      "           1       0.73      0.49      0.59       295\n",
      "\n",
      "    accuracy                           0.78       900\n",
      "   macro avg       0.76      0.70      0.72       900\n",
      "weighted avg       0.77      0.78      0.76       900\n",
      "\n"
     ]
    }
   ],
   "source": [
    "print(classification_report(test_labels, ytest_predict_rfcl))"
   ]
  },
  {
   "cell_type": "markdown",
   "id": "400a9295",
   "metadata": {},
   "source": [
    "Artificial Neural Network"
   ]
  },
  {
   "cell_type": "markdown",
   "id": "adb74279",
   "metadata": {},
   "source": [
    "AUC and ROC for the training data"
   ]
  },
  {
   "cell_type": "code",
   "execution_count": 281,
   "id": "f6c2fe8d",
   "metadata": {},
   "outputs": [
    {
     "name": "stdout",
     "output_type": "stream",
     "text": [
      "AUC: 0.816\n"
     ]
    },
    {
     "data": {
      "image/png": "[encoded data removed]",
      "text/plain": [
       "<Figure size 432x288 with 1 Axes>"
      ]
     },
     "metadata": {
      "needs_background": "light"
     },
     "output_type": "display_data"
    }
   ],
   "source": [
    "probs_nncl = best_grid_nncl.predict_proba(X_train)\n",
    "probs_nncl = probs_nncl[:, 1]\n",
    "nncl_train_auc = roc_auc_score(train_labels, probs_nncl)\n",
    "print('AUC: %.3f' % nncl_train_auc)\n",
    "nncl_train_fpr, nncl_train_tpr, nncl_train_thresholds = roc_curve(train_labels, probs_nncl)\n",
    "plt.title('Artificial Neural Network ROC curve - Training Data')\n",
    "plt.plot([0, 1], [0, 1], linestyle='--')\n",
    "plt.plot(nncl_train_fpr, nncl_train_tpr, marker='.')\n",
    "plt.show()"
   ]
  },
  {
   "cell_type": "markdown",
   "id": "61f8f7a0",
   "metadata": {},
   "source": [
    "AUC and ROC for the test data"
   ]
  },
  {
   "cell_type": "code",
   "execution_count": 282,
   "id": "36a7c3ba",
   "metadata": {},
   "outputs": [
    {
     "name": "stdout",
     "output_type": "stream",
     "text": [
      "AUC: 0.783\n"
     ]
    },
    {
     "data": {
      "image/png": "[encoded data removed]",
      "text/plain": [
       "<Figure size 432x288 with 1 Axes>"
      ]
     },
     "metadata": {
      "needs_background": "light"
     },
     "output_type": "display_data"
    }
   ],
   "source": [
    "probs_nncl = best_grid_nncl.predict_proba(X_test)\n",
    "probs_nncl = probs_nncl[:, 1]\n",
    "nncl_test_auc = roc_auc_score(test_labels, probs_nncl)\n",
    "print('AUC: %.3f' % nncl_test_auc)\n",
    "nncl_test_fpr, nncl_test_tpr, nncl_test_thresholds = roc_curve(test_labels, probs_nncl)\n",
    "plt.title('Artificial Neural Network ROC curve - Test Data')\n",
    "plt.plot([0, 1], [0, 1], linestyle='--')\n",
    "plt.plot(nncl_test_fpr, nncl_test_tpr, marker='.')\n",
    "plt.show()"
   ]
  },
  {
   "cell_type": "markdown",
   "id": "3c379a18",
   "metadata": {},
   "source": [
    "Confusion Matrix and Classification Report for the training data"
   ]
  },
  {
   "cell_type": "code",
   "execution_count": 238,
   "id": "91f1c698",
   "metadata": {},
   "outputs": [
    {
     "data": {
      "text/plain": [
       "array([[1289,  182],\n",
       "       [ 262,  367]], dtype=int64)"
      ]
     },
     "execution_count": 238,
     "metadata": {},
     "output_type": "execute_result"
    }
   ],
   "source": [
    "confusion_matrix(train_labels, ytrain_predict_nncl)"
   ]
  },
  {
   "cell_type": "code",
   "execution_count": 239,
   "id": "35d343bd",
   "metadata": {},
   "outputs": [
    {
     "data": {
      "text/plain": [
       "0.7885714285714286"
      ]
     },
     "execution_count": 239,
     "metadata": {},
     "output_type": "execute_result"
    }
   ],
   "source": [
    "nncl_train_acc=best_grid_nncl.score(X_train,train_labels) \n",
    "nncl_train_acc"
   ]
  },
  {
   "cell_type": "code",
   "execution_count": 240,
   "id": "406025a2",
   "metadata": {},
   "outputs": [
    {
     "name": "stdout",
     "output_type": "stream",
     "text": [
      "              precision    recall  f1-score   support\n",
      "\n",
      "           0       0.83      0.88      0.85      1471\n",
      "           1       0.67      0.58      0.62       629\n",
      "\n",
      "    accuracy                           0.79      2100\n",
      "   macro avg       0.75      0.73      0.74      2100\n",
      "weighted avg       0.78      0.79      0.78      2100\n",
      "\n"
     ]
    }
   ],
   "source": [
    "print(classification_report(train_labels, ytrain_predict_nncl))"
   ]
  },
  {
   "cell_type": "markdown",
   "id": "e9eebbde",
   "metadata": {},
   "source": [
    "Confusion Matrix and Classification Report for the test data"
   ]
  },
  {
   "cell_type": "code",
   "execution_count": 241,
   "id": "9167f2bf",
   "metadata": {},
   "outputs": [
    {
     "data": {
      "text/plain": [
       "array([[547,  58],\n",
       "       [154, 141]], dtype=int64)"
      ]
     },
     "execution_count": 241,
     "metadata": {},
     "output_type": "execute_result"
    }
   ],
   "source": [
    "confusion_matrix(test_labels, ytest_predict_nncl)"
   ]
  },
  {
   "cell_type": "code",
   "execution_count": 242,
   "id": "ad516b45",
   "metadata": {},
   "outputs": [
    {
     "data": {
      "text/plain": [
       "0.7644444444444445"
      ]
     },
     "execution_count": 242,
     "metadata": {},
     "output_type": "execute_result"
    }
   ],
   "source": [
    "nncl_test_acc=best_grid_nncl.score(X_test,test_labels)\n",
    "nncl_test_acc"
   ]
  },
  {
   "cell_type": "code",
   "execution_count": 243,
   "id": "d337ace5",
   "metadata": {},
   "outputs": [
    {
     "name": "stdout",
     "output_type": "stream",
     "text": [
      "              precision    recall  f1-score   support\n",
      "\n",
      "           0       0.78      0.90      0.84       605\n",
      "           1       0.71      0.48      0.57       295\n",
      "\n",
      "    accuracy                           0.76       900\n",
      "   macro avg       0.74      0.69      0.70       900\n",
      "weighted avg       0.76      0.76      0.75       900\n",
      "\n"
     ]
    }
   ],
   "source": [
    "print(classification_report(test_labels, ytest_predict_nncl))"
   ]
  },
  {
   "cell_type": "markdown",
   "id": "26b8e304",
   "metadata": {},
   "source": [
    "2.4 Final Model: Compare all the models and write an inference which model is best/optimized.\n"
   ]
  },
  {
   "cell_type": "code",
   "execution_count": 250,
   "id": "c66d2c12",
   "metadata": {},
   "outputs": [
    {
     "name": "stdout",
     "output_type": "stream",
     "text": [
      "dtcl_train_precision  0.71\n",
      "dtcl_train_recall  0.57\n",
      "dtcl_train_f1  0.63\n",
      "dtcl_test_precision  0.71\n",
      "dtcl_test_recall  0.57\n",
      "dtcl_test_f1  0.63\n"
     ]
    }
   ],
   "source": [
    "dtcl_metrics=classification_report(train_labels, ytrain_predict_dtcl,output_dict=True)\n",
    "df=pd.DataFrame(dtcl_metrics).transpose()\n",
    "dtcl_train_f1=round(df.loc[\"1\"][2],2)\n",
    "dtcl_train_recall=round(df.loc[\"1\"][1],2)\n",
    "dtcl_train_precision=round(df.loc[\"1\"][0],2)\n",
    "print ('dtcl_train_precision ',dtcl_train_precision)\n",
    "print ('dtcl_train_recall ',dtcl_train_recall)\n",
    "print ('dtcl_train_f1 ',dtcl_train_f1)\n",
    "cart_metrics=classification_report(test_labels, ytest_predict_dtcl,output_dict=True)\n",
    "df=pd.DataFrame(dtcl_metrics).transpose()\n",
    "dtcl_test_precision=round(df.loc[\"1\"][0],2)\n",
    "dtcl_test_recall=round(df.loc[\"1\"][1],2)\n",
    "dtcl_test_f1=round(df.loc[\"1\"][2],2)\n",
    "print ('dtcl_test_precision ',dtcl_test_precision)\n",
    "print ('dtcl_test_recall ',dtcl_test_recall)\n",
    "print ('dtcl_test_f1 ',dtcl_test_f1)"
   ]
  },
  {
   "cell_type": "code",
   "execution_count": 251,
   "id": "43a736f2",
   "metadata": {},
   "outputs": [
    {
     "name": "stdout",
     "output_type": "stream",
     "text": [
      "rfcl_train_precision  0.76\n",
      "rfcl_train_recall  0.63\n",
      "rfcl_train_f1  0.69\n",
      "rfcl_test_precision  0.73\n",
      "rfcl_test_recall  0.49\n",
      "rfcl_test_f1  0.59\n"
     ]
    }
   ],
   "source": [
    "rfcl_metrics=classification_report(train_labels, ytrain_predict_rfcl,output_dict=True)\n",
    "df=pd.DataFrame(rfcl_metrics).transpose()\n",
    "rfcl_train_precision=round(df.loc[\"1\"][0],2)\n",
    "rfcl_train_recall=round(df.loc[\"1\"][1],2)\n",
    "rfcl_train_f1=round(df.loc[\"1\"][2],2)\n",
    "print ('rfcl_train_precision ',rfcl_train_precision)\n",
    "print ('rfcl_train_recall ',rfcl_train_recall)\n",
    "print ('rfcl_train_f1 ',rfcl_train_f1)\n",
    "rfcl_metrics=classification_report(test_labels, ytest_predict_rfcl,output_dict=True)\n",
    "df=pd.DataFrame(rfcl_metrics).transpose()\n",
    "rfcl_test_precision=round(df.loc[\"1\"][0],2)\n",
    "rfcl_test_recall=round(df.loc[\"1\"][1],2)\n",
    "rfcl_test_f1=round(df.loc[\"1\"][2],2)\n",
    "print ('rfcl_test_precision ',rfcl_test_precision)\n",
    "print ('rfcl_test_recall ',rfcl_test_recall)\n",
    "print ('rfcl_test_f1 ',rfcl_test_f1)"
   ]
  },
  {
   "cell_type": "code",
   "execution_count": 252,
   "id": "c11e1693",
   "metadata": {},
   "outputs": [
    {
     "name": "stdout",
     "output_type": "stream",
     "text": [
      "nncl_train_precision  0.67\n",
      "nncl_train_recall  0.58\n",
      "nncl_train_f1  0.62\n",
      "nncl_test_precision  0.71\n",
      "nncl_test_recall  0.48\n",
      "nncl_test_f1  0.57\n"
     ]
    }
   ],
   "source": [
    "nncl_metrics=classification_report(train_labels, ytrain_predict_nncl,output_dict=True)\n",
    "df=pd.DataFrame(nncl_metrics).transpose()\n",
    "nncl_train_precision=round(df.loc[\"1\"][0],2)\n",
    "nncl_train_recall=round(df.loc[\"1\"][1],2)\n",
    "nncl_train_f1=round(df.loc[\"1\"][2],2)\n",
    "print ('nncl_train_precision ',nncl_train_precision)\n",
    "print ('nncl_train_recall ',nncl_train_recall)\n",
    "print ('nncl_train_f1 ',nncl_train_f1)\n",
    "nncl_metrics=classification_report(test_labels, ytest_predict_nncl,output_dict=True)\n",
    "df=pd.DataFrame(nncl_metrics).transpose()\n",
    "nncl_test_precision=round(df.loc[\"1\"][0],2)\n",
    "nncl_test_recall=round(df.loc[\"1\"][1],2)\n",
    "nncl_test_f1=round(df.loc[\"1\"][2],2)\n",
    "print ('nncl_test_precision ',nncl_test_precision)\n",
    "print ('nncl_test_recall ',nncl_test_recall)\n",
    "print ('nncl_test_f1 ',nncl_test_f1)"
   ]
  },
  {
   "cell_type": "code",
   "execution_count": 275,
   "id": "05eb01cd",
   "metadata": {},
   "outputs": [
    {
     "data": {
      "text/html": [
       "<div>\n",
       "<style scoped>\n",
       "    .dataframe tbody tr th:only-of-type {\n",
       "        vertical-align: middle;\n",
       "    }\n",
       "\n",
       "    .dataframe tbody tr th {\n",
       "        vertical-align: top;\n",
       "    }\n",
       "\n",
       "    .dataframe thead th {\n",
       "        text-align: right;\n",
       "    }\n",
       "</style>\n",
       "<table border=\"1\" class=\"dataframe\">\n",
       "  <thead>\n",
       "    <tr style=\"text-align: right;\">\n",
       "      <th></th>\n",
       "      <th>Decision Tree Train</th>\n",
       "      <th>Decision Tree Test</th>\n",
       "      <th>Random Forest Train</th>\n",
       "      <th>Random Forest Test</th>\n",
       "      <th>Neural Network Train</th>\n",
       "      <th>Neural Network Test</th>\n",
       "    </tr>\n",
       "  </thead>\n",
       "  <tbody>\n",
       "    <tr>\n",
       "      <th>Accuracy</th>\n",
       "      <td>0.800</td>\n",
       "      <td>0.746</td>\n",
       "      <td>0.831</td>\n",
       "      <td>0.776</td>\n",
       "      <td>0.789</td>\n",
       "      <td>0.764</td>\n",
       "    </tr>\n",
       "    <tr>\n",
       "      <th>AUC</th>\n",
       "      <td>0.845</td>\n",
       "      <td>0.796</td>\n",
       "      <td>0.896</td>\n",
       "      <td>0.825</td>\n",
       "      <td>0.816</td>\n",
       "      <td>0.783</td>\n",
       "    </tr>\n",
       "    <tr>\n",
       "      <th>Recall</th>\n",
       "      <td>0.570</td>\n",
       "      <td>0.570</td>\n",
       "      <td>0.630</td>\n",
       "      <td>0.490</td>\n",
       "      <td>0.580</td>\n",
       "      <td>0.480</td>\n",
       "    </tr>\n",
       "    <tr>\n",
       "      <th>Precision</th>\n",
       "      <td>0.710</td>\n",
       "      <td>0.710</td>\n",
       "      <td>0.760</td>\n",
       "      <td>0.730</td>\n",
       "      <td>0.670</td>\n",
       "      <td>0.710</td>\n",
       "    </tr>\n",
       "    <tr>\n",
       "      <th>F1 Score</th>\n",
       "      <td>0.630</td>\n",
       "      <td>0.630</td>\n",
       "      <td>0.690</td>\n",
       "      <td>0.590</td>\n",
       "      <td>0.620</td>\n",
       "      <td>0.570</td>\n",
       "    </tr>\n",
       "  </tbody>\n",
       "</table>\n",
       "</div>"
      ],
      "text/plain": [
       "           Decision Tree Train  Decision Tree Test  Random Forest Train  \\\n",
       "Accuracy                 0.800               0.746                0.831   \n",
       "AUC                      0.845               0.796                0.896   \n",
       "Recall                   0.570               0.570                0.630   \n",
       "Precision                0.710               0.710                0.760   \n",
       "F1 Score                 0.630               0.630                0.690   \n",
       "\n",
       "           Random Forest Test  Neural Network Train  Neural Network Test  \n",
       "Accuracy                0.776                 0.789                0.764  \n",
       "AUC                     0.825                 0.816                0.783  \n",
       "Recall                  0.490                 0.580                0.480  \n",
       "Precision               0.730                 0.670                0.710  \n",
       "F1 Score                0.590                 0.620                0.570  "
      ]
     },
     "execution_count": 275,
     "metadata": {},
     "output_type": "execute_result"
    }
   ],
   "source": [
    "index=['Accuracy', 'AUC', 'Recall','Precision','F1 Score']\n",
    "data = pd.DataFrame({'Decision Tree Train':[dtcl_train_acc,dtcl_train_auc,dtcl_train_recall,dtcl_train_precision,dtcl_train_f1],\n",
    "        'Decision Tree Test':[dtcl_test_acc,dtcl_test_auc,dtcl_test_recall,dtcl_test_precision,dtcl_test_f1],\n",
    "       'Random Forest Train':[rfcl_train_acc,rfcl_train_auc,rfcl_train_recall,rfcl_train_precision,rfcl_train_f1],\n",
    "        'Random Forest Test':[rfcl_test_acc,rfcl_test_auc,rfcl_test_recall,rfcl_test_precision,rfcl_test_f1],\n",
    "       'Neural Network Train':[nncl_train_acc,nncl_train_auc,nncl_train_recall,nncl_train_precision,nncl_train_f1],\n",
    "        'Neural Network Test':[nncl_test_acc,nncl_test_auc,nncl_test_recall,nncl_test_precision,nncl_test_f1]},index=index)\n",
    "round(data,3)"
   ]
  },
  {
   "cell_type": "markdown",
   "id": "2a01fe1c",
   "metadata": {},
   "source": [
    "ROC curve for the 3 models on training data "
   ]
  },
  {
   "cell_type": "code",
   "execution_count": 270,
   "id": "29b46867",
   "metadata": {},
   "outputs": [
    {
     "data": {
      "text/plain": [
       "<matplotlib.legend.Legend at 0x15960ffa0a0>"
      ]
     },
     "execution_count": 270,
     "metadata": {},
     "output_type": "execute_result"
    },
    {
     "data": {
      "image/png": "[encoded data removed]",
      "text/plain": [
       "<Figure size 720x360 with 1 Axes>"
      ]
     },
     "metadata": {
      "needs_background": "light"
     },
     "output_type": "display_data"
    }
   ],
   "source": [
    "plt.figure(figsize=(10,5))\n",
    "plt.title('ROC curve - Training Data')\n",
    "plt.plot([0, 1], [0, 1], linestyle='--')\n",
    "plt.plot(dtcl_train_fpr, dtcl_train_tpr,color='red',label=\"Decision Tree\")\n",
    "plt.plot(rfcl_train_fpr,rfcl_train_tpr,color='blue',label=\"Random Forest\")\n",
    "plt.plot(nncl_train_fpr,nncl_train_tpr,color='green',label=\"Artificial Neural Network\")\n",
    "plt.xlabel('False Positive Rate')\n",
    "plt.ylabel('True Positive Rate')\n",
    "plt.legend(bbox_to_anchor=(0., 1.02, 1., .102), loc='lower right')"
   ]
  },
  {
   "cell_type": "markdown",
   "id": "a8b3c8f6",
   "metadata": {},
   "source": [
    "ROC curve for the 3 models on test data "
   ]
  },
  {
   "cell_type": "code",
   "execution_count": 271,
   "id": "5f9bcc65",
   "metadata": {},
   "outputs": [
    {
     "data": {
      "text/plain": [
       "<matplotlib.legend.Legend at 0x15963485850>"
      ]
     },
     "execution_count": 271,
     "metadata": {},
     "output_type": "execute_result"
    },
    {
     "data": {
      "image/png": "[encoded data removed]",
      "text/plain": [
       "<Figure size 720x360 with 1 Axes>"
      ]
     },
     "metadata": {
      "needs_background": "light"
     },
     "output_type": "display_data"
    }
   ],
   "source": [
    "plt.figure(figsize=(10,5))\n",
    "plt.title('ROC curve - Test Data')\n",
    "plt.plot([0, 1], [0, 1], linestyle='--')\n",
    "plt.plot(dtcl_test_fpr, dtcl_test_tpr,color='red',label=\"Decision Tree\")\n",
    "plt.plot(rfcl_test_fpr,rfcl_test_tpr,color='blue',label=\"Random Forest\")\n",
    "plt.plot(nncl_test_fpr,nncl_test_tpr,color='green',label=\"Artificial Neural Network\")\n",
    "plt.xlabel('False Positive Rate')\n",
    "plt.ylabel('True Positive Rate')\n",
    "plt.legend(bbox_to_anchor=(0., 1.02, 1., .102), loc='lower right')"
   ]
  },
  {
   "cell_type": "markdown",
   "id": "26ab313b",
   "metadata": {},
   "source": [
    "2.5 Inference: Based on the whole Analysis, what are the business insights and recommendations\n",
    "\n"
   ]
  },
  {
   "cell_type": "code",
   "execution_count": null,
   "id": "1e57290c",
   "metadata": {},
   "outputs": [],
   "source": []
  },
  {
   "cell_type": "code",
   "execution_count": null,
   "id": "b3a50bc9",
   "metadata": {},
   "outputs": [],
   "source": [
    "Problem 2: CART-RF-ANN\n",
    "\n",
    "\n",
    "An Insurance firm providing tour insurance is facing higher claim frequency. The management decides to collect data from the past few years. You are assigned the task to make a model which predicts the claim status and provide recommendations to management. Use CART, RF & ANN and compare the models' performances in train and test sets.\n",
    "\n",
    "\n",
    "\n",
    "import numpy as np\n",
    "import pandas as pd\n",
    "import matplotlib.pyplot as plt\n",
    "import seaborn as sns\n",
    "%matplotlib inline\n",
    "from scipy import stats\n",
    "\n",
    "df2 = pd.read_csv('insurance_part2_data.csv')\n",
    "\n",
    "2.1 Read the data, do the necessary initial steps, and exploratory data analysis (Univariate, Bi-variate, and multivariate analysis).\n",
    "\n",
    "\n",
    "df2.head()\n",
    "\n",
    "df2.info()\n",
    "\n",
    "df2.dtypes\n",
    "\n",
    "df2.shape\n",
    "\n",
    "df2.isnull().sum()\n",
    "\n",
    "df2.describe()\n",
    "\n",
    "Univariate Analysis\n",
    "\n",
    "def univariateAnalysis_numeric(column,nbins):\n",
    "    print(\"Description of \" + column)\n",
    "    print(\"----------------------------------------------------------------------------\")\n",
    "    print(df2[column].describe(),end=' ')\n",
    "    \n",
    "    \n",
    "    plt.figure()\n",
    "    print(\"Distribution of \" + column)\n",
    "    print(\"----------------------------------------------------------------------------\")\n",
    "    sns.distplot(df2[column], kde=True);\n",
    "    plt.title(\"Distribution of \" + column,fontsize=10)\n",
    "    plt.show()\n",
    "    \n",
    "    plt.figure()\n",
    "    print(\"BoxPlot of \" + column)\n",
    "    print(\"----------------------------------------------------------------------------\")\n",
    "    ax = sns.boxplot(x=df2[column], orient = \"v\")\n",
    "    plt.title(\"Boxplot of \" + column,fontsize=10)\n",
    "    plt.show()\n",
    "    \n",
    "    plt.figure()\n",
    "    print(\"Histogram of \" + column)\n",
    "    print(\"----------------------------------------------------------------------------\")\n",
    "    ax1 = plt.hist(x=df2[column])\n",
    "    plt.title(\"Histogram of \" + column,fontsize=10)\n",
    "    plt.xlabel(\"\" + column, fontsize=10)\n",
    "    plt.show()\n",
    "\n",
    "df2_num = df2.select_dtypes(include = ['float64', 'int64'])\n",
    "lstnumericcolumns2 = list(df2_num.columns.values)\n",
    "len(lstnumericcolumns2)\n",
    "\n",
    "df2_num.head()\n",
    "\n",
    "Skewness_2 = pd.DataFrame({'Skewness' : [stats.skew(df2.Age),stats.skew(df2.Commision),stats.skew(df2.Duration),stats.skew(df2.Sales)]},\n",
    "                        index=['Age','Commision','Duration','Sales']) \n",
    "\n",
    "Skewness_2\n",
    "\n",
    "for x in lstnumericcolumns2:\n",
    "    univariateAnalysis_numeric(x,4)\n",
    "\n",
    "plt.title('Countplot of Agency_code')\n",
    "sns.countplot(data = df2, x = 'Agency_Code')\n",
    "\n",
    "plt.title('Countplot of Type')\n",
    "sns.countplot(data = df2, x = 'Type')\n",
    "\n",
    "plt.title('Countplot of Claimed')\n",
    "sns.countplot(data = df2, x = 'Claimed')\n",
    "\n",
    "plt.title('Countplot of Channel')\n",
    "sns.countplot(data = df2, x = 'Channel')\n",
    "\n",
    "plt.figure(figsize=(10,5))\n",
    "plt.title('Countplot of Product Name')\n",
    "sns.countplot(data = df2, x = 'Product Name')\n",
    "\n",
    "plt.title('Countplot of Destination')\n",
    "sns.countplot(data = df2, x = 'Destination')\n",
    "\n",
    "Bivariate Analysis\n",
    "\n",
    "corr2 = df2_num.corr(method='pearson')\n",
    "corr2\n",
    "\n",
    "plt.figure(figsize=(10,8))\n",
    "sns.heatmap(corr2, annot=True, fmt = '.2f', cmap = 'Blues')\n",
    "\n",
    "plt.figure(figsize=(10,5))\n",
    "plt.title('Countplot of Agency_code')\n",
    "sns.countplot(x='Agency_Code',hue='Claimed',data=df2)\n",
    "\n",
    "plt.figure(figsize=(10,5))\n",
    "plt.title('Countplot of Type')\n",
    "sns.countplot(x='Type',hue='Claimed',data=df2)\n",
    "\n",
    "plt.figure(figsize=(10,5))\n",
    "plt.title('Countplot of Channel')\n",
    "sns.countplot(x='Channel',hue='Claimed',data=df2)\n",
    "\n",
    "plt.figure(figsize=(10,5))\n",
    "plt.title('Countplot of Product Name')\n",
    "sns.countplot(x='Product Name',hue='Claimed',data=df2)\n",
    "\n",
    "plt.figure(figsize=(10,5))\n",
    "plt.title('Countplot of Destination')\n",
    "sns.countplot(x='Destination',hue='Claimed',data=df2)\n",
    "\n",
    "Multivariate Analysis\n",
    "\n",
    "sns.pairplot(df2, diag_kind='kde')\n",
    "plt.tight_layout()\n",
    "\n",
    "plt.figure(figsize=(10,5))\n",
    "plt.title('Boxplot of Agency_code')\n",
    "sns.boxplot(data = df2, x='Agency_Code',y='Sales', hue='Claimed')\n",
    "\n",
    "plt.title('Boxplot of Type')\n",
    "sns.boxplot(data = df2, x='Type',y='Sales', hue='Claimed')\n",
    "\n",
    "plt.title('Boxplot of Claimed')\n",
    "sns.boxplot(data = df2, x='Claimed',y='Sales')\n",
    "\n",
    "plt.figure(figsize=(10,5))\n",
    "plt.title('Boxplot of Channel')\n",
    "sns.boxplot(data = df2, x='Channel',y='Sales', hue='Claimed')\n",
    "\n",
    "plt.figure(figsize=(10,5))\n",
    "plt.title('Boxplot of Product Name')\n",
    "sns.boxplot(data = df2, x='Product Name',y='Sales', hue='Claimed')\n",
    "\n",
    "plt.figure(figsize=(10,5))\n",
    "plt.title('Boxplot of Destination')\n",
    "sns.boxplot(data = df2, x='Destination',y='Sales', hue='Claimed')\n",
    "\n",
    "for feature in df2.columns:\n",
    "    if df2[feature].dtype == 'object':\n",
    "        df2[feature] = pd.Categorical(df2[feature]).codes\n",
    "\n",
    "df2.info()\n",
    "\n",
    "df2.head()\n",
    "\n",
    "df2.Claimed.value_counts(normalize=True)\n",
    "\n",
    "2.2 Data Split: Split the data into test and train, build classification model CART, Random Forest, Artificial Neural Network\n",
    "\n",
    "\n",
    "X = df2.drop(\"Claimed\", axis=1)\n",
    "y = df2.pop(\"Claimed\")\n",
    "\n",
    "from sklearn.model_selection import train_test_split\n",
    "\n",
    "X_train, X_test, train_labels, test_labels = train_test_split(X, y, test_size=.30, random_state=1)\n",
    "\n",
    "from scipy.stats import zscore\n",
    "df2_scaled=df2.apply(zscore)\n",
    "df2_scaled.head()\n",
    "\n",
    "plt.plot(df2_scaled)\n",
    "plt.show()\n",
    "\n",
    "print('X_train',X_train.shape)\n",
    "print('X_test',X_test.shape)\n",
    "print('train_labels',train_labels.shape)\n",
    "print('test_labels',test_labels.shape)\n",
    "\n",
    "Descision Tree Classifier\n",
    "\n",
    "from sklearn.tree import DecisionTreeClassifier\n",
    "\n",
    "from sklearn.model_selection import GridSearchCV\n",
    "\n",
    "param_grid_dtcl = {\n",
    "    'criterion': ['gini'],\n",
    "    'max_depth': [10,20,30,50],\n",
    "    'min_samples_leaf': [50,100,150], \n",
    "    'min_samples_split': [150,300,450],\n",
    "}\n",
    "\n",
    "dtcl = DecisionTreeClassifier(random_state=1)\n",
    "\n",
    "grid_search_dtcl = GridSearchCV(estimator = dtcl, param_grid = param_grid_dtcl, cv = 10)\n",
    "\n",
    "grid_search_dtcl.fit(X_train, train_labels)\n",
    "print(grid_search_dtcl.best_params_)\n",
    "best_grid_dtcl = grid_search_dtcl.best_estimator_\n",
    "best_grid_dtcl\n",
    "\n",
    "param_grid_dtcl = {\n",
    "    'criterion': ['gini'],\n",
    "    'max_depth': [3, 5, 7, 10,12],\n",
    "    'min_samples_leaf': [20,30,40,50,60], \n",
    "    'min_samples_split': [100, 120, 140, 150],\n",
    "}\n",
    "\n",
    "dtcl = DecisionTreeClassifier(random_state=1)\n",
    "\n",
    "grid_search_dtcl = GridSearchCV(estimator = dtcl, param_grid = param_grid_dtcl, cv = 10)\n",
    "\n",
    "grid_search_dtcl.fit(X_train, train_labels)\n",
    "print(grid_search_dtcl.best_params_)\n",
    "best_grid_dtcl = grid_search_dtcl.best_estimator_\n",
    "best_grid_dtcl\n",
    "\n",
    "param_grid_dtcl = {\n",
    "    'criterion': ['gini'],\n",
    "    'max_depth': [3, 5, 7, 10,12],\n",
    "    'min_samples_leaf': [10, 15, 20, 25], \n",
    "    'min_samples_split': [130, 135, 140, 145, 150],\n",
    "}\n",
    "\n",
    "dtcl = DecisionTreeClassifier(random_state=1)\n",
    "\n",
    "grid_search_dtcl = GridSearchCV(estimator = dtcl, param_grid = param_grid_dtcl, cv = 10)\n",
    "\n",
    "grid_search_dtcl.fit(X_train, train_labels)\n",
    "print(grid_search_dtcl.best_params_)\n",
    "best_grid_dtcl = grid_search_dtcl.best_estimator_\n",
    "best_grid_dtcl\n",
    "\n",
    "param_grid_dtcl = {\n",
    "    'criterion': ['gini'],\n",
    "    'max_depth': [3, 5, 7, 10,12],\n",
    "    'min_samples_leaf': [18, 19, 20, 21, 22], \n",
    "    'min_samples_split': [138, 139, 140, 141, 142],\n",
    "}\n",
    "\n",
    "dtcl = DecisionTreeClassifier(random_state=1)\n",
    "\n",
    "grid_search_dtcl = GridSearchCV(estimator = dtcl, param_grid = param_grid_dtcl, cv = 10)\n",
    "\n",
    "grid_search_dtcl.fit(X_train, train_labels)\n",
    "print(grid_search_dtcl.best_params_)\n",
    "best_grid_dtcl = grid_search_dtcl.best_estimator_\n",
    "best_grid_dtcl\n",
    "\n",
    "from sklearn import tree\n",
    "\n",
    "train_char_label = ['No', 'Yes']\n",
    "tree_regularized = open('tree_regularized.dot','w')\n",
    "dot_data = tree.export_graphviz(best_grid_dtcl, out_file= tree_regularized ,\n",
    "                                feature_names = list(X_train),\n",
    "                                class_names = list(train_char_label))\n",
    "\n",
    "tree_regularized.close()\n",
    "dot_data\n",
    "\n",
    "print (pd.DataFrame(best_grid_dtcl.feature_importances_, columns = [\"Imp\"], \n",
    "                    index = X_train.columns).sort_values('Imp',ascending=False))\n",
    "\n",
    "ytrain_predict_dtcl = best_grid_dtcl.predict(X_train)\n",
    "ytest_predict_dtcl = best_grid_dtcl.predict(X_test)\n",
    "\n",
    "ytest_predict_dtcl\n",
    "ytest_predict_prob_dtcl=best_grid_dtcl.predict_proba(X_test)\n",
    "ytest_predict_prob_dtcl\n",
    "pd.DataFrame(ytest_predict_prob_dtcl).head()\n",
    "\n",
    "Random Forest Classifier\n",
    "\n",
    "from sklearn.ensemble import RandomForestClassifier\n",
    "\n",
    "param_grid_rfcl = { 'max_depth': [5,10,15],\n",
    "                   'max_features': [4,5,6,7],\n",
    "                   'min_samples_leaf': [10,50,70],\n",
    "                   'min_samples_split': [30,50,70], \n",
    "                   'n_estimators': [200,250,300]}\n",
    "\n",
    "rfcl = RandomForestClassifier(random_state=1)\n",
    "\n",
    "grid_search_rfcl = GridSearchCV(estimator = rfcl, param_grid = param_grid_rfcl, cv = 5)\n",
    "\n",
    "grid_search_rfcl.fit(X_train, train_labels) \n",
    "print(grid_search_rfcl.best_params_) \n",
    "best_grid_rfcl = grid_search_rfcl.best_estimator_ \n",
    "best_grid_rfcl\n",
    "\n",
    "param_grid_rfcl = { 'max_depth': [14, 15, 20],\n",
    "                   'max_features': [4,5,6,7],\n",
    "                   'min_samples_leaf': [5, 10, 15],\n",
    "                   'min_samples_split': [20, 30, 35], \n",
    "                   'n_estimators': [290, 300, 350]}\n",
    "\n",
    "rfcl = RandomForestClassifier(random_state=1)\n",
    "\n",
    "grid_search_rfcl = GridSearchCV(estimator = rfcl, param_grid = param_grid_rfcl, cv = 5)\n",
    "\n",
    "grid_search_rfcl.fit(X_train, train_labels) \n",
    "print(grid_search_rfcl.best_params_) \n",
    "best_grid_rfcl = grid_search_rfcl.best_estimator_ \n",
    "best_grid_rfcl\n",
    "\n",
    "param_grid_rfcl = { 'max_depth': [10, 12, 14, 15],\n",
    "                   'max_features': [2,3,4,5,6],\n",
    "                   'min_samples_leaf': [3, 5, 10],\n",
    "                   'min_samples_split': [25, 30, 35], \n",
    "                   'n_estimators': [290, 300, 320]}\n",
    "\n",
    "rfcl = RandomForestClassifier(random_state=1)\n",
    "\n",
    "grid_search_rfcl = GridSearchCV(estimator = rfcl, param_grid = param_grid_rfcl, cv = 5)\n",
    "\n",
    "grid_search_rfcl.fit(X_train, train_labels) \n",
    "print(grid_search_rfcl.best_params_) \n",
    "best_grid_rfcl = grid_search_rfcl.best_estimator_ \n",
    "best_grid_rfcl\n",
    "\n",
    "param_grid_rfcl = { 'max_depth': [5, 10, 12],\n",
    "                   'max_features': [2,3,4],\n",
    "                   'min_samples_leaf': [3, 5, 10],\n",
    "                   'min_samples_split': [20, 25, 30, 35], \n",
    "                   'n_estimators': [290, 300, 320]}\n",
    "\n",
    "rfcl = RandomForestClassifier(random_state=1)\n",
    "\n",
    "grid_search_rfcl = GridSearchCV(estimator = rfcl, param_grid = param_grid_rfcl, cv = 5)\n",
    "\n",
    "grid_search_rfcl.fit(X_train, train_labels) \n",
    "print(grid_search_rfcl.best_params_) \n",
    "best_grid_rfcl = grid_search_rfcl.best_estimator_ \n",
    "best_grid_rfcl\n",
    "\n",
    "print (pd.DataFrame(best_grid_rfcl.feature_importances_, \n",
    "                    columns = [\"Imp\"], \n",
    "                    index = X_train.columns).sort_values('Imp',ascending=False))\n",
    "\n",
    "ytrain_predict_rfcl = best_grid_rfcl.predict(X_train)\n",
    "ytest_predict_rfcl = best_grid_rfcl.predict(X_test)\n",
    "\n",
    "ytest_predict_rfcl\n",
    "ytest_predict_prob_rfcl=best_grid_rfcl.predict_proba(X_test)\n",
    "ytest_predict_prob_rfcl\n",
    "pd.DataFrame(ytest_predict_prob_rfcl).head()\n",
    "\n",
    "Artificial Neural Network\n",
    "\n",
    "from sklearn.neural_network import MLPClassifier\n",
    "\n",
    "param_grid_nncl = {\n",
    "    'hidden_layer_sizes': [50,100,200],\n",
    "    'max_iter': [200,300,500],\n",
    "    'solver': ['adam','sgd'],\n",
    "    'tol': [0.1,0.01], \n",
    "}\n",
    "\n",
    "nncl = MLPClassifier(random_state=1)\n",
    "\n",
    "grid_search_nncl = GridSearchCV(estimator = nncl, param_grid = param_grid_nncl, cv = 10)\n",
    "\n",
    "grid_search_nncl.fit(X_train, train_labels)\n",
    "print(grid_search_nncl.best_params_)\n",
    "best_grid_nncl = grid_search_nncl.best_estimator_\n",
    "best_grid_nncl\n",
    "\n",
    "param_grid_nncl = {\n",
    "    'hidden_layer_sizes': [50,100,200],\n",
    "    'max_iter': [50,100,150,200],\n",
    "    'solver': ['adam'],\n",
    "    'tol': [0.01], \n",
    "}\n",
    "\n",
    "nncl = MLPClassifier(random_state=1)\n",
    "\n",
    "grid_search_nncl = GridSearchCV(estimator = nncl, param_grid = param_grid_nncl, cv = 10)\n",
    "\n",
    "grid_search_nncl.fit(X_train, train_labels)\n",
    "print(grid_search_nncl.best_params_)\n",
    "best_grid_nncl = grid_search_nncl.best_estimator_\n",
    "best_grid_nncl\n",
    "\n",
    "param_grid_nncl = {\n",
    "    'hidden_layer_sizes': [50,100,200],\n",
    "    'max_iter': [40,50,60],\n",
    "    'solver': ['adam'],\n",
    "    'tol': [0.01], \n",
    "}\n",
    "\n",
    "nncl = MLPClassifier(random_state=1)\n",
    "\n",
    "grid_search_nncl = GridSearchCV(estimator = nncl, param_grid = param_grid_nncl, cv = 10)\n",
    "\n",
    "grid_search_nncl.fit(X_train, train_labels)\n",
    "print(grid_search_nncl.best_params_)\n",
    "best_grid_nncl = grid_search_nncl.best_estimator_\n",
    "best_grid_nncl\n",
    "\n",
    "param_grid_nncl = {\n",
    "    'hidden_layer_sizes': [50,100,200],\n",
    "    'max_iter': [40,50,60,70],\n",
    "    'solver': ['adam'],\n",
    "    'tol': [0.01], \n",
    "}\n",
    "\n",
    "nncl = MLPClassifier(random_state=1)\n",
    "\n",
    "grid_search_nncl = GridSearchCV(estimator = nncl, param_grid = param_grid_nncl, cv = 10)\n",
    "\n",
    "grid_search_nncl.fit(X_train, train_labels)\n",
    "print(grid_search_nncl.best_params_)\n",
    "best_grid_nncl = grid_search_nncl.best_estimator_\n",
    "best_grid_nncl\n",
    "\n",
    "ytrain_predict_nncl = best_grid_nncl.predict(X_train)\n",
    "ytest_predict_nncl = best_grid_nncl.predict(X_test)\n",
    "\n",
    "ytest_predict_nncl\n",
    "ytest_predict_prob_nncl=best_grid_nncl.predict_proba(X_test)\n",
    "ytest_predict_prob_nncl\n",
    "pd.DataFrame(ytest_predict_prob_nncl).head()\n",
    "\n",
    "2.3 Performance Metrics: Comment and Check the performance of Predictions on Train and Test sets using Accuracy, Confusion Matrix, Plot ROC curve and get ROC_AUC score, classification reports for each model. \n",
    "\n",
    "\n",
    "from sklearn.metrics import roc_auc_score,roc_curve,classification_report,confusion_matrix\n",
    "\n",
    "Decision Tree Classifier\n",
    "\n",
    "AUC and ROC for the training data\n",
    "\n",
    "probs_dtcl = best_grid_dtcl.predict_proba(X_train)\n",
    "probs_dtcl = probs_dtcl[:, 1]\n",
    "dtcl_train_auc = roc_auc_score(train_labels, probs_dtcl)\n",
    "print('AUC: %.3f' % dtcl_train_auc)\n",
    "dtcl_train_fpr, dtcl_train_tpr, dtcl_train_thresholds = roc_curve(train_labels, probs_dtcl)\n",
    "plt.title('Decision Tree Classifier ROC curve - Training Data')\n",
    "plt.plot([0, 1], [0, 1], linestyle='--')\n",
    "plt.plot(dtcl_train_fpr, dtcl_train_tpr, marker='.')\n",
    "plt.show()\n",
    "\n",
    "AUC and ROC for the test data\n",
    "\n",
    "probs_dtcl = best_grid_dtcl.predict_proba(X_test)\n",
    "probs_dtcl = probs_dtcl[:, 1]\n",
    "dtcl_test_auc = roc_auc_score(test_labels, probs_dtcl)\n",
    "print('AUC: %.3f' % dtcl_test_auc)\n",
    "dtcl_test_fpr, dtcl_test_tpr, dtcl_test_thresholds = roc_curve(test_labels, probs_dtcl)\n",
    "plt.title('Decision Tree Classifier ROC curve - Test Data')\n",
    "plt.plot([0, 1], [0, 1], linestyle='--')\n",
    "plt.plot(dtcl_test_fpr, dtcl_test_tpr, marker='.')\n",
    "plt.show()\n",
    "\n",
    "Confusion Matrix and Classification Report for the training data\n",
    "\n",
    "confusion_matrix(train_labels, ytrain_predict_dtcl)\n",
    "\n",
    "dtcl_train_acc=best_grid_dtcl.score(X_train,train_labels) \n",
    "dtcl_train_acc\n",
    "\n",
    "print(classification_report(train_labels, ytrain_predict_dtcl))\n",
    "\n",
    "Confusion Matrix and Classification Report for the test data\n",
    "\n",
    "confusion_matrix(test_labels, ytest_predict_dtcl)\n",
    "\n",
    "dtcl_test_acc=best_grid_dtcl.score(X_test,test_labels)\n",
    "dtcl_test_acc\n",
    "\n",
    "print(classification_report(test_labels, ytest_predict_dtcl))\n",
    "\n",
    "Random Forest Classifier\n",
    "\n",
    "AUC and ROC for the training data\n",
    "\n",
    "probs_rfcl = best_grid_rfcl.predict_proba(X_train)\n",
    "probs_rfcl = probs_rfcl[:, 1]\n",
    "rfcl_train_auc = roc_auc_score(train_labels, probs_rfcl)\n",
    "print('AUC: %.3f' % rfcl_train_auc)\n",
    "rfcl_train_fpr, rfcl_train_tpr, rfcl_train_thresholds = roc_curve(train_labels, probs_rfcl)\n",
    "plt.title('Random Forest Classifier ROC curve - Training Data')\n",
    "plt.plot([0, 1], [0, 1], linestyle='--')\n",
    "plt.plot(rfcl_train_fpr, rfcl_train_tpr, marker='.')\n",
    "plt.show()\n",
    "\n",
    "AUC and ROC for the test data\n",
    "\n",
    "probs_rfcl = best_grid_rfcl.predict_proba(X_test)\n",
    "probs_rfcl = probs_rfcl[:, 1]\n",
    "rfcl_test_auc = roc_auc_score(test_labels, probs_rfcl)\n",
    "print('AUC: %.3f' % rfcl_test_auc)\n",
    "rfcl_test_fpr, rfcl_test_tpr, rfcl_test_thresholds = roc_curve(test_labels, probs_rfcl)\n",
    "plt.title('Random Forest Classifier ROC curve - Test Data')\n",
    "plt.plot([0, 1], [0, 1], linestyle='--')\n",
    "plt.plot(rfcl_test_fpr, rfcl_test_tpr, marker='.')\n",
    "plt.show()\n",
    "\n",
    "Confusion Matrix and Classification Report for the training data\n",
    "\n",
    "confusion_matrix(train_labels, ytrain_predict_rfcl)\n",
    "\n",
    "rfcl_train_acc=best_grid_rfcl.score(X_train,train_labels) \n",
    "rfcl_train_acc\n",
    "\n",
    "print(classification_report(train_labels, ytrain_predict_rfcl))\n",
    "\n",
    "Confusion Matrix and Classification Report for the test data\n",
    "\n",
    "confusion_matrix(test_labels, ytest_predict_rfcl)\n",
    "\n",
    "rfcl_test_acc=best_grid_rfcl.score(X_test,test_labels)\n",
    "rfcl_test_acc\n",
    "\n",
    "print(classification_report(test_labels, ytest_predict_rfcl))\n",
    "\n",
    "Artificial Neural Network\n",
    "\n",
    "AUC and ROC for the training data\n",
    "\n",
    "probs_nncl = best_grid_nncl.predict_proba(X_train)\n",
    "probs_nncl = probs_nncl[:, 1]\n",
    "nncl_train_auc = roc_auc_score(train_labels, probs_nncl)\n",
    "print('AUC: %.3f' % nncl_train_auc)\n",
    "nncl_train_fpr, nncl_train_tpr, nncl_train_thresholds = roc_curve(train_labels, probs_nncl)\n",
    "plt.title('Artificial Neural Network ROC curve - Training Data')\n",
    "plt.plot([0, 1], [0, 1], linestyle='--')\n",
    "plt.plot(nncl_train_fpr, nncl_train_tpr, marker='.')\n",
    "plt.show()\n",
    "\n",
    "AUC and ROC for the test data\n",
    "\n",
    "probs_nncl = best_grid_nncl.predict_proba(X_test)\n",
    "probs_nncl = probs_nncl[:, 1]\n",
    "nncl_test_auc = roc_auc_score(test_labels, probs_nncl)\n",
    "print('AUC: %.3f' % nncl_test_auc)\n",
    "nncl_test_fpr, nncl_test_tpr, nncl_test_thresholds = roc_curve(test_labels, probs_nncl)\n",
    "plt.title('Artificial Neural Network ROC curve - Test Data')\n",
    "plt.plot([0, 1], [0, 1], linestyle='--')\n",
    "plt.plot(nncl_test_fpr, nncl_test_tpr, marker='.')\n",
    "plt.show()\n",
    "\n",
    "Confusion Matrix and Classification Report for the training data\n",
    "\n",
    "confusion_matrix(train_labels, ytrain_predict_nncl)\n",
    "\n",
    "nncl_train_acc=best_grid_nncl.score(X_train,train_labels) \n",
    "nncl_train_acc\n",
    "\n",
    "print(classification_report(train_labels, ytrain_predict_nncl))\n",
    "\n",
    "Confusion Matrix and Classification Report for the test data\n",
    "\n",
    "confusion_matrix(test_labels, ytest_predict_nncl)\n",
    "\n",
    "nncl_test_acc=best_grid_nncl.score(X_test,test_labels)\n",
    "nncl_test_acc\n",
    "\n",
    "print(classification_report(test_labels, ytest_predict_nncl))\n",
    "\n",
    "2.4 Final Model: Compare all the models and write an inference which model is best/optimized.\n",
    "\n",
    "\n",
    "dtcl_metrics=classification_report(train_labels, ytrain_predict_dtcl,output_dict=True)\n",
    "df=pd.DataFrame(dtcl_metrics).transpose()\n",
    "dtcl_train_f1=round(df.loc[\"1\"][2],2)\n",
    "dtcl_train_recall=round(df.loc[\"1\"][1],2)\n",
    "dtcl_train_precision=round(df.loc[\"1\"][0],2)\n",
    "print ('dtcl_train_precision ',dtcl_train_precision)\n",
    "print ('dtcl_train_recall ',dtcl_train_recall)\n",
    "print ('dtcl_train_f1 ',dtcl_train_f1)\n",
    "cart_metrics=classification_report(test_labels, ytest_predict_dtcl,output_dict=True)\n",
    "df=pd.DataFrame(dtcl_metrics).transpose()\n",
    "dtcl_test_precision=round(df.loc[\"1\"][0],2)\n",
    "dtcl_test_recall=round(df.loc[\"1\"][1],2)\n",
    "dtcl_test_f1=round(df.loc[\"1\"][2],2)\n",
    "print ('dtcl_test_precision ',dtcl_test_precision)\n",
    "print ('dtcl_test_recall ',dtcl_test_recall)\n",
    "print ('dtcl_test_f1 ',dtcl_test_f1)\n",
    "\n",
    "rfcl_metrics=classification_report(train_labels, ytrain_predict_rfcl,output_dict=True)\n",
    "df=pd.DataFrame(rfcl_metrics).transpose()\n",
    "rfcl_train_precision=round(df.loc[\"1\"][0],2)\n",
    "rfcl_train_recall=round(df.loc[\"1\"][1],2)\n",
    "rfcl_train_f1=round(df.loc[\"1\"][2],2)\n",
    "print ('rfcl_train_precision ',rfcl_train_precision)\n",
    "print ('rfcl_train_recall ',rfcl_train_recall)\n",
    "print ('rfcl_train_f1 ',rfcl_train_f1)\n",
    "rfcl_metrics=classification_report(test_labels, ytest_predict_rfcl,output_dict=True)\n",
    "df=pd.DataFrame(rfcl_metrics).transpose()\n",
    "rfcl_test_precision=round(df.loc[\"1\"][0],2)\n",
    "rfcl_test_recall=round(df.loc[\"1\"][1],2)\n",
    "rfcl_test_f1=round(df.loc[\"1\"][2],2)\n",
    "print ('rfcl_test_precision ',rfcl_test_precision)\n",
    "print ('rfcl_test_recall ',rfcl_test_recall)\n",
    "print ('rfcl_test_f1 ',rfcl_test_f1)\n",
    "\n",
    "nncl_metrics=classification_report(train_labels, ytrain_predict_nncl,output_dict=True)\n",
    "df=pd.DataFrame(nncl_metrics).transpose()\n",
    "nncl_train_precision=round(df.loc[\"1\"][0],2)\n",
    "nncl_train_recall=round(df.loc[\"1\"][1],2)\n",
    "nncl_train_f1=round(df.loc[\"1\"][2],2)\n",
    "print ('nncl_train_precision ',nncl_train_precision)\n",
    "print ('nncl_train_recall ',nncl_train_recall)\n",
    "print ('nncl_train_f1 ',nncl_train_f1)\n",
    "nncl_metrics=classification_report(test_labels, ytest_predict_nncl,output_dict=True)\n",
    "df=pd.DataFrame(nncl_metrics).transpose()\n",
    "nncl_test_precision=round(df.loc[\"1\"][0],2)\n",
    "nncl_test_recall=round(df.loc[\"1\"][1],2)\n",
    "nncl_test_f1=round(df.loc[\"1\"][2],2)\n",
    "print ('nncl_test_precision ',nncl_test_precision)\n",
    "print ('nncl_test_recall ',nncl_test_recall)\n",
    "print ('nncl_test_f1 ',nncl_test_f1)\n",
    "\n",
    "index=['Accuracy', 'AUC', 'Recall','Precision','F1 Score']\n",
    "data = pd.DataFrame({'Decision Tree Train':[dtcl_train_acc,dtcl_train_auc,dtcl_train_recall,dtcl_train_precision,dtcl_train_f1],\n",
    "        'Decision Tree Test':[dtcl_test_acc,dtcl_test_auc,dtcl_test_recall,dtcl_test_precision,dtcl_test_f1],\n",
    "       'Random Forest Train':[rfcl_train_acc,rfcl_train_auc,rfcl_train_recall,rfcl_train_precision,rfcl_train_f1],\n",
    "        'Random Forest Test':[rfcl_test_acc,rfcl_test_auc,rfcl_test_recall,rfcl_test_precision,rfcl_test_f1],\n",
    "       'Neural Network Train':[nncl_train_acc,nncl_train_auc,nncl_train_recall,nncl_train_precision,nncl_train_f1],\n",
    "        'Neural Network Test':[nncl_test_acc,nncl_test_auc,nncl_test_recall,nncl_test_precision,nncl_test_f1]},index=index)\n",
    "round(data,3)\n",
    "\n",
    "ROC curve for the 3 models on training data \n",
    "\n",
    "plt.figure(figsize=(10,5))\n",
    "plt.title('ROC curve - Training Data')\n",
    "plt.plot([0, 1], [0, 1], linestyle='--')\n",
    "plt.plot(dtcl_train_fpr, dtcl_train_tpr,color='red',label=\"Decision Tree\")\n",
    "plt.plot(rfcl_train_fpr,rfcl_train_tpr,color='blue',label=\"Random Forest\")\n",
    "plt.plot(nncl_train_fpr,nncl_train_tpr,color='green',label=\"Artificial Neural Network\")\n",
    "plt.xlabel('False Positive Rate')\n",
    "plt.ylabel('True Positive Rate')\n",
    "plt.legend(bbox_to_anchor=(0., 1.02, 1., .102), loc='lower right')\n",
    "\n",
    "ROC curve for the 3 models on test data \n",
    "\n",
    "plt.figure(figsize=(10,5))\n",
    "plt.title('ROC curve - Test Data')\n",
    "plt.plot([0, 1], [0, 1], linestyle='--')\n",
    "plt.plot(dtcl_test_fpr, dtcl_test_tpr,color='red',label=\"Decision Tree\")\n",
    "plt.plot(rfcl_test_fpr,rfcl_test_tpr,color='blue',label=\"Random Forest\")\n",
    "plt.plot(nncl_test_fpr,nncl_test_tpr,color='green',label=\"Artificial Neural Network\")\n",
    "plt.xlabel('False Positive Rate')\n",
    "plt.ylabel('True Positive Rate')\n",
    "plt.legend(bbox_to_anchor=(0., 1.02, 1., .102), loc='lower right')\n",
    "\n",
    "2.5 Inference: Based on the whole Analysis, what are the business insights and recommendations\n",
    "\n",
    "\n",
    "\n"
   ]
  }
 ],
 "metadata": {
  "kernelspec": {
   "display_name": "Python 3",
   "language": "python",
   "name": "python3"
  },
  "language_info": {
   "codemirror_mode": {
    "name": "ipython",
    "version": 3
   },
   "file_extension": ".py",
   "mimetype": "text/x-python",
   "name": "python",
   "nbconvert_exporter": "python",
   "pygments_lexer": "ipython3",
   "version": "3.8.8"
  }
 },
 "nbformat": 4,
 "nbformat_minor": 5
}
